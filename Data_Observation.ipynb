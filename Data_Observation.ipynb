{
 "cells": [
  {
   "cell_type": "code",
   "execution_count": 2,
   "metadata": {},
   "outputs": [],
   "source": [
    "import pandas as pd\n",
    "import numpy as np\n",
    "import matplotlib.pyplot as plt"
   ]
  },
  {
   "cell_type": "code",
   "execution_count": 3,
   "metadata": {},
   "outputs": [],
   "source": [
    "df_train = pd.read_csv('./dataset/train_cleaned.csv')\n",
    "df_test = pd.read_csv('./dataset/test_cleaned.csv')"
   ]
  },
  {
   "cell_type": "code",
   "execution_count": 80,
   "metadata": {},
   "outputs": [],
   "source": [
    "def compare_outliers(feature: str):\n",
    "  df = df_train[feature]\n",
    "  q1 = df.quantile(0.25)\n",
    "  q3 = df.quantile(0.75)\n",
    "\n",
    "  iqr = q3 - q1\n",
    "\n",
    "  is_outlier = (df < q1 - 1.5 * iqr) | (df > q3 + 1.5 * iqr)\n",
    "\n",
    "  df_outlier = df[is_outlier]\n",
    "  df_non_outlier = df[~(is_outlier)]\n",
    "\n",
    "  print(f'Outlier: {df_outlier.count()}, Non-Outlier: {df_non_outlier.count()}')\n"
   ]
  },
  {
   "cell_type": "code",
   "execution_count": 82,
   "metadata": {},
   "outputs": [
    {
     "name": "stdout",
     "output_type": "stream",
     "text": [
      "feature: temp\n",
      "Outlier: 5557, Non-Outlier: 336323\n",
      "\n",
      "\n",
      "feature: d_point\n",
      "Outlier: 9441, Non-Outlier: 332439\n",
      "\n",
      "\n",
      "feature: feels\n",
      "Outlier: 5128, Non-Outlier: 336752\n",
      "\n",
      "\n",
      "feature: min_temp\n",
      "Outlier: 5219, Non-Outlier: 336661\n",
      "\n",
      "\n",
      "feature: max_temp\n",
      "Outlier: 5854, Non-Outlier: 336026\n",
      "\n",
      "\n",
      "feature: prssr\n",
      "Outlier: 9888, Non-Outlier: 331992\n",
      "\n",
      "\n",
      "feature: hum\n",
      "Outlier: 9549, Non-Outlier: 332331\n",
      "\n",
      "\n",
      "feature: wind_spd\n",
      "Outlier: 14091, Non-Outlier: 325563\n",
      "\n",
      "\n",
      "feature: wind_deg\n",
      "Outlier: 4235, Non-Outlier: 337645\n",
      "\n",
      "\n",
      "feature: rain_1h\n",
      "Outlier: 52957, Non-Outlier: 288923\n",
      "\n",
      "\n",
      "feature: clouds\n",
      "Outlier: 40927, Non-Outlier: 300953\n",
      "\n",
      "\n"
     ]
    }
   ],
   "source": [
    "numerical_features = df_train.select_dtypes(include=['float64', 'int64']).columns\n",
    "numerical_features = numerical_features.drop(['datetime', 'time-zone'])\n",
    "\n",
    "for feature in numerical_features:\n",
    "  print(f'feature: {feature}')\n",
    "  compare_outliers(feature)\n",
    "  print('\\n')"
   ]
  },
  {
   "cell_type": "markdown",
   "metadata": {},
   "source": [
    "nganuin season"
   ]
  },
  {
   "cell_type": "code",
   "execution_count": 26,
   "metadata": {},
   "outputs": [
    {
     "data": {
      "text/plain": [
       "dry      171288\n",
       "rainy    170592\n",
       "Name: season, dtype: int64"
      ]
     },
     "execution_count": 26,
     "metadata": {},
     "output_type": "execute_result"
    }
   ],
   "source": [
    "# April to September\n",
    "rainy_season = [4, 5, 6, 7, 8, 9]\n",
    "# October to March\n",
    "dry_season = [10, 11, 12, 1, 2, 3]\n",
    "\n",
    "df_train['season'] = df_train['datetime_iso'].apply(lambda x: 'rainy' if pd.DatetimeIndex([x]).month[0] in rainy_season else 'dry')\n",
    "\n",
    "df_train['season'].value_counts()\n"
   ]
  },
  {
   "cell_type": "code",
   "execution_count": null,
   "metadata": {},
   "outputs": [],
   "source": []
  }
 ],
 "metadata": {
  "kernelspec": {
   "display_name": "Python 3",
   "language": "python",
   "name": "python3"
  },
  "language_info": {
   "codemirror_mode": {
    "name": "ipython",
    "version": 3
   },
   "file_extension": ".py",
   "mimetype": "text/x-python",
   "name": "python",
   "nbconvert_exporter": "python",
   "pygments_lexer": "ipython3",
   "version": "3.10.6"
  },
  "orig_nbformat": 4
 },
 "nbformat": 4,
 "nbformat_minor": 2
}
