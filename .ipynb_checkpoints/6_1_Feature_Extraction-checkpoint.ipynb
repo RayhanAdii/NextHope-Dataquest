{
 "cells": [
  {
   "cell_type": "markdown",
   "id": "b6172327-01c6-48ea-b176-83b743775706",
   "metadata": {},
   "source": [
    "# 6.1. Time Series Feature Extraction\n",
    "\n",
    "Target di notebook ini kita ekstrak banyak feature dulu, baru habis itu diuji kualitas featurenya.\n",
    "\n",
    "Walaupun banyak feature yg ga masuk akal, kayak misal masak tiap hari jumat lebih sering hujan? kan gamasuk ya, tp coba aja :v"
   ]
  },
  {
   "cell_type": "code",
   "execution_count": 1,
   "id": "592d72a9-ad1f-4e5f-a676-b0af2a283adf",
   "metadata": {},
   "outputs": [],
   "source": [
    "import pandas as pd"
   ]
  },
  {
   "cell_type": "code",
   "execution_count": 2,
   "id": "164a25c7-e867-4671-b92f-a16df54bc4ec",
   "metadata": {},
   "outputs": [],
   "source": [
    "df_train = pd.read_csv('./dataset/train_cleaned.csv')\n",
    "df_train['datetime_iso'] = pd.to_datetime(df_train['datetime_iso'])\n",
    "\n",
    "df_test = pd.read_csv('./dataset/test_cleaned.csv')\n",
    "df_test['datetime_iso'] = pd.to_datetime(df_test['datetime_iso'])"
   ]
  },
  {
   "cell_type": "code",
   "execution_count": 3,
   "id": "924a8385-0543-4c00-9f9a-141c196c87fe",
   "metadata": {},
   "outputs": [
    {
     "name": "stdout",
     "output_type": "stream",
     "text": [
      "<class 'pandas.core.frame.DataFrame'>\n",
      "RangeIndex: 341880 entries, 0 to 341879\n",
      "Data columns (total 20 columns):\n",
      " #   Column        Non-Null Count   Dtype              \n",
      "---  ------        --------------   -----              \n",
      " 0   datetime      341880 non-null  int64              \n",
      " 1   datetime_iso  341880 non-null  datetime64[ns, UTC]\n",
      " 2   time-zone     341880 non-null  int64              \n",
      " 3   temp          341880 non-null  float64            \n",
      " 4   visibility    51112 non-null   object             \n",
      " 5   d_point       341880 non-null  float64            \n",
      " 6   feels         341880 non-null  float64            \n",
      " 7   min_temp      341880 non-null  float64            \n",
      " 8   max_temp      341880 non-null  float64            \n",
      " 9   prssr         341880 non-null  float64            \n",
      " 10  sea_level     192964 non-null  object             \n",
      " 11  grnd_level    192919 non-null  object             \n",
      " 12  hum           341880 non-null  float64            \n",
      " 13  wind_spd      339654 non-null  float64            \n",
      " 14  wind_deg      341880 non-null  float64            \n",
      " 15  rain_1h       341880 non-null  float64            \n",
      " 16  rain_3h       192329 non-null  object             \n",
      " 17  snow_1h       192696 non-null  object             \n",
      " 18  snow_3h       192699 non-null  object             \n",
      " 19  clouds        341880 non-null  float64            \n",
      "dtypes: datetime64[ns, UTC](1), float64(11), int64(2), object(6)\n",
      "memory usage: 52.2+ MB\n"
     ]
    }
   ],
   "source": [
    "df_train.info()"
   ]
  },
  {
   "cell_type": "code",
   "execution_count": 4,
   "id": "33d0b415-6fd4-4e7f-b8e2-ad6f3fd4bc94",
   "metadata": {},
   "outputs": [
    {
     "name": "stdout",
     "output_type": "stream",
     "text": [
      "<class 'pandas.core.frame.DataFrame'>\n",
      "RangeIndex: 49368 entries, 0 to 49367\n",
      "Data columns (total 19 columns):\n",
      " #   Column        Non-Null Count  Dtype              \n",
      "---  ------        --------------  -----              \n",
      " 0   datetime      49368 non-null  int64              \n",
      " 1   datetime_iso  49368 non-null  datetime64[ns, UTC]\n",
      " 2   time-zone     49368 non-null  int64              \n",
      " 3   temp          49368 non-null  float64            \n",
      " 4   visibility    7533 non-null   object             \n",
      " 5   d_point       49367 non-null  float64            \n",
      " 6   feels         49368 non-null  float64            \n",
      " 7   min_temp      49368 non-null  float64            \n",
      " 8   max_temp      49368 non-null  float64            \n",
      " 9   prssr         49368 non-null  float64            \n",
      " 10  sea_level     27694 non-null  object             \n",
      " 11  grnd_level    27866 non-null  object             \n",
      " 12  hum           49368 non-null  float64            \n",
      " 13  wind_spd      49034 non-null  float64            \n",
      " 14  wind_deg      49368 non-null  float64            \n",
      " 15  rain_3h       27841 non-null  object             \n",
      " 16  snow_1h       27666 non-null  object             \n",
      " 17  snow_3h       27803 non-null  object             \n",
      " 18  clouds        49368 non-null  float64            \n",
      "dtypes: datetime64[ns, UTC](1), float64(10), int64(2), object(6)\n",
      "memory usage: 7.2+ MB\n"
     ]
    }
   ],
   "source": [
    "df_test.info()"
   ]
  },
  {
   "cell_type": "code",
   "execution_count": 6,
   "id": "ea3d0432-fbb3-40e7-8c41-22327f2656d5",
   "metadata": {},
   "outputs": [],
   "source": [
    "df = pd.concat([df_train, df_test], axis=0)"
   ]
  },
  {
   "cell_type": "markdown",
   "id": "8ffc2ed8-6eeb-449f-b12c-2d5936a55e99",
   "metadata": {},
   "source": [
    "# Feature Extraction: Time Series"
   ]
  },
  {
   "cell_type": "code",
   "execution_count": 7,
   "id": "efcae404-6047-4ad4-9d69-3df55ac66285",
   "metadata": {},
   "outputs": [],
   "source": [
    "# Kita ambil datetime_iso saja dan label nya\n",
    "\n",
    "df_time_series = df[['datetime_iso', 'rain_1h']]"
   ]
  },
  {
   "cell_type": "code",
   "execution_count": 5,
   "id": "232e7766-75b9-4939-ba7c-5ee50cd51fcd",
   "metadata": {},
   "outputs": [
    {
     "name": "stdout",
     "output_type": "stream",
     "text": [
      "<class 'pandas.core.frame.DataFrame'>\n",
      "RangeIndex: 341880 entries, 0 to 341879\n",
      "Data columns (total 2 columns):\n",
      " #   Column        Non-Null Count   Dtype              \n",
      "---  ------        --------------   -----              \n",
      " 0   datetime_iso  341880 non-null  datetime64[ns, UTC]\n",
      " 1   rain_1h       341880 non-null  float64            \n",
      "dtypes: datetime64[ns, UTC](1), float64(1)\n",
      "memory usage: 5.2 MB\n"
     ]
    }
   ],
   "source": [
    "df_train.info()"
   ]
  },
  {
   "cell_type": "markdown",
   "id": "c3da5a2f-b035-4a91-bd26-c6103126c8cd",
   "metadata": {},
   "source": [
    "## Create Feature: Day"
   ]
  },
  {
   "cell_type": "code",
   "execution_count": 6,
   "id": "ff6b1fb5-a557-410f-8104-01d1c8db51bc",
   "metadata": {},
   "outputs": [],
   "source": [
    "# Extract the month and create a new column\n",
    "df_train['day_of_the_week'] = df_train['datetime_iso'].dt.dayofweek\n",
    "df_test['day_of_the_week'] = df_test['datetime_iso'].dt.dayofweek"
   ]
  },
  {
   "cell_type": "code",
   "execution_count": 7,
   "id": "c722cf76-0bb8-40be-b1eb-9c6764b17846",
   "metadata": {},
   "outputs": [
    {
     "data": {
      "text/plain": [
       "0    48840\n",
       "1    48840\n",
       "2    48840\n",
       "3    48840\n",
       "4    48840\n",
       "5    48840\n",
       "6    48840\n",
       "Name: day_of_the_week, dtype: int64"
      ]
     },
     "execution_count": 7,
     "metadata": {},
     "output_type": "execute_result"
    }
   ],
   "source": [
    "df_train.day_of_the_week.value_counts()"
   ]
  },
  {
   "cell_type": "markdown",
   "id": "330c7cdc-c773-4c80-aac4-ef131bf03715",
   "metadata": {},
   "source": [
    "## Create Feature: Month"
   ]
  },
  {
   "cell_type": "code",
   "execution_count": 8,
   "id": "24363f36-b1c5-40dc-b017-7adf1acdb5c0",
   "metadata": {},
   "outputs": [],
   "source": [
    "# Extract the month and create a new column\n",
    "df_train['month'] = df_train['datetime_iso'].dt.month\n",
    "df_test['month'] = df_test['datetime_iso'].dt.month"
   ]
  },
  {
   "cell_type": "code",
   "execution_count": 9,
   "id": "9b79e8a1-2c77-48a0-9d0f-57a799944d90",
   "metadata": {},
   "outputs": [
    {
     "data": {
      "text/plain": [
       "1     29016\n",
       "3     29016\n",
       "5     29016\n",
       "7     29016\n",
       "8     29016\n",
       "10    29016\n",
       "12    29016\n",
       "4     28080\n",
       "6     28080\n",
       "9     28080\n",
       "11    28080\n",
       "2     26448\n",
       "Name: month, dtype: int64"
      ]
     },
     "execution_count": 9,
     "metadata": {},
     "output_type": "execute_result"
    }
   ],
   "source": [
    "df_train.month.value_counts()"
   ]
  },
  {
   "cell_type": "markdown",
   "id": "8e874bb4-34f7-4962-b23c-ba84d73be949",
   "metadata": {},
   "source": [
    "## Create Feature: Season\n",
    "\n",
    "Pembagian musim:\n",
    "- Hujan: Oktober - Maret\n",
    "- Kemarau: April - September"
   ]
  },
  {
   "cell_type": "code",
   "execution_count": 10,
   "id": "c344023a-309d-4b5b-8b37-3aee04e57443",
   "metadata": {},
   "outputs": [],
   "source": [
    "ordinal_map = {1:1,\n",
    "               2:1,\n",
    "               3:1,\n",
    "               4:0,\n",
    "               5:0,\n",
    "               6:0,\n",
    "               7:0,\n",
    "               8:0,\n",
    "               9:0,\n",
    "               10:1,\n",
    "               11:1,\n",
    "               12:1,\n",
    "               \n",
    "}\n",
    "\n",
    "df_train['season'] = df_train.month.map(ordinal_map)\n",
    "df_test['season'] = df_test.month.map(ordinal_map)"
   ]
  },
  {
   "cell_type": "code",
   "execution_count": 11,
   "id": "d65837a5-b13e-46e1-9e5f-435546009bbd",
   "metadata": {},
   "outputs": [
    {
     "data": {
      "text/html": [
       "<div>\n",
       "<style scoped>\n",
       "    .dataframe tbody tr th:only-of-type {\n",
       "        vertical-align: middle;\n",
       "    }\n",
       "\n",
       "    .dataframe tbody tr th {\n",
       "        vertical-align: top;\n",
       "    }\n",
       "\n",
       "    .dataframe thead th {\n",
       "        text-align: right;\n",
       "    }\n",
       "</style>\n",
       "<table border=\"1\" class=\"dataframe\">\n",
       "  <thead>\n",
       "    <tr style=\"text-align: right;\">\n",
       "      <th></th>\n",
       "      <th>datetime_iso</th>\n",
       "      <th>rain_1h</th>\n",
       "      <th>day_of_the_week</th>\n",
       "      <th>month</th>\n",
       "      <th>season</th>\n",
       "    </tr>\n",
       "  </thead>\n",
       "  <tbody>\n",
       "    <tr>\n",
       "      <th>0</th>\n",
       "      <td>1979-01-01 00:00:00+00:00</td>\n",
       "      <td>0.00</td>\n",
       "      <td>0</td>\n",
       "      <td>1</td>\n",
       "      <td>1</td>\n",
       "    </tr>\n",
       "    <tr>\n",
       "      <th>1</th>\n",
       "      <td>1979-01-01 01:00:00+00:00</td>\n",
       "      <td>0.00</td>\n",
       "      <td>0</td>\n",
       "      <td>1</td>\n",
       "      <td>1</td>\n",
       "    </tr>\n",
       "    <tr>\n",
       "      <th>2</th>\n",
       "      <td>1979-01-01 02:00:00+00:00</td>\n",
       "      <td>0.00</td>\n",
       "      <td>0</td>\n",
       "      <td>1</td>\n",
       "      <td>1</td>\n",
       "    </tr>\n",
       "    <tr>\n",
       "      <th>3</th>\n",
       "      <td>1979-01-01 03:00:00+00:00</td>\n",
       "      <td>0.13</td>\n",
       "      <td>0</td>\n",
       "      <td>1</td>\n",
       "      <td>1</td>\n",
       "    </tr>\n",
       "    <tr>\n",
       "      <th>4</th>\n",
       "      <td>1979-01-01 04:00:00+00:00</td>\n",
       "      <td>0.34</td>\n",
       "      <td>0</td>\n",
       "      <td>1</td>\n",
       "      <td>1</td>\n",
       "    </tr>\n",
       "  </tbody>\n",
       "</table>\n",
       "</div>"
      ],
      "text/plain": [
       "               datetime_iso  rain_1h  day_of_the_week  month  season\n",
       "0 1979-01-01 00:00:00+00:00     0.00                0      1       1\n",
       "1 1979-01-01 01:00:00+00:00     0.00                0      1       1\n",
       "2 1979-01-01 02:00:00+00:00     0.00                0      1       1\n",
       "3 1979-01-01 03:00:00+00:00     0.13                0      1       1\n",
       "4 1979-01-01 04:00:00+00:00     0.34                0      1       1"
      ]
     },
     "execution_count": 11,
     "metadata": {},
     "output_type": "execute_result"
    }
   ],
   "source": [
    "df_train.head()"
   ]
  },
  {
   "cell_type": "markdown",
   "id": "d8c1f2f3-d8c3-4366-9f29-889c6529af99",
   "metadata": {},
   "source": [
    "### Create Feature: Lag 6 years ago"
   ]
  },
  {
   "cell_type": "code",
   "execution_count": 12,
   "id": "d709ee8b-e5d9-46fb-8e90-2c31572f2f09",
   "metadata": {},
   "outputs": [],
   "source": [
    "# Specify the number of years to lag\n",
    "lag_years = 6\n",
    "\n",
    "# Calculate the lagged date\n",
    "df_train['lag_rain_1h_6_years_date'] = df_train['datetime_iso'] - pd.DateOffset(years=lag_years)\n",
    "df_test['lag_rain_1h_6_years_date'] = df_test['datetime_iso'] - pd.DateOffset(years=lag_years)\n",
    "\n",
    "df_train['lag_rain_1h_6_years_date'] = pd.to_datetime(df_train['lag_rain_1h_6_years_date'])\n",
    "df_test['lag_rain_1h_6_years_date'] = pd.to_datetime(df_test['lag_rain_1h_6_years_date'])\n",
    "\n",
    "# Merge the DataFrame with itself to get lag_rain_1h_6_years_value\n",
    "result_df =df_train.merge(df_train[['datetime_iso', 'rain_1h']], left_on='lag_rain_1h_6_years_date', right_on='datetime_iso', suffixes=('', '_lag'))\n",
    "\n",
    "# Rename the 'rain_1h_lag' column to 'lag_rain_1h_6_years_value'\n",
    "result_df.rename(columns={'rain_1h_lag': 'lag_rain_1h_6_years_value'}, inplace=True)\n",
    "\n",
    "# Drop the duplicated datetime_iso column\n",
    "result_df.drop(columns='datetime_iso_lag', inplace=True)"
   ]
  },
  {
   "cell_type": "code",
   "execution_count": 15,
   "id": "c19047ff-f1b9-45cd-a3e6-f8efe688bf53",
   "metadata": {},
   "outputs": [
    {
     "data": {
      "text/html": [
       "<div>\n",
       "<style scoped>\n",
       "    .dataframe tbody tr th:only-of-type {\n",
       "        vertical-align: middle;\n",
       "    }\n",
       "\n",
       "    .dataframe tbody tr th {\n",
       "        vertical-align: top;\n",
       "    }\n",
       "\n",
       "    .dataframe thead th {\n",
       "        text-align: right;\n",
       "    }\n",
       "</style>\n",
       "<table border=\"1\" class=\"dataframe\">\n",
       "  <thead>\n",
       "    <tr style=\"text-align: right;\">\n",
       "      <th></th>\n",
       "      <th>datetime_iso</th>\n",
       "      <th>rain_1h</th>\n",
       "      <th>day_of_the_week</th>\n",
       "      <th>month</th>\n",
       "      <th>season</th>\n",
       "      <th>lag_rain_1h_6_years_date</th>\n",
       "      <th>lag_rain_1h_6_years_value</th>\n",
       "    </tr>\n",
       "  </thead>\n",
       "  <tbody>\n",
       "    <tr>\n",
       "      <th>0</th>\n",
       "      <td>1985-01-01 00:00:00+00:00</td>\n",
       "      <td>0.00</td>\n",
       "      <td>1</td>\n",
       "      <td>1</td>\n",
       "      <td>1</td>\n",
       "      <td>1979-01-01 00:00:00+00:00</td>\n",
       "      <td>0.00</td>\n",
       "    </tr>\n",
       "    <tr>\n",
       "      <th>1</th>\n",
       "      <td>1985-01-01 01:00:00+00:00</td>\n",
       "      <td>0.11</td>\n",
       "      <td>1</td>\n",
       "      <td>1</td>\n",
       "      <td>1</td>\n",
       "      <td>1979-01-01 01:00:00+00:00</td>\n",
       "      <td>0.00</td>\n",
       "    </tr>\n",
       "    <tr>\n",
       "      <th>2</th>\n",
       "      <td>1985-01-01 02:00:00+00:00</td>\n",
       "      <td>0.10</td>\n",
       "      <td>1</td>\n",
       "      <td>1</td>\n",
       "      <td>1</td>\n",
       "      <td>1979-01-01 02:00:00+00:00</td>\n",
       "      <td>0.00</td>\n",
       "    </tr>\n",
       "    <tr>\n",
       "      <th>3</th>\n",
       "      <td>1985-01-01 03:00:00+00:00</td>\n",
       "      <td>0.13</td>\n",
       "      <td>1</td>\n",
       "      <td>1</td>\n",
       "      <td>1</td>\n",
       "      <td>1979-01-01 03:00:00+00:00</td>\n",
       "      <td>0.13</td>\n",
       "    </tr>\n",
       "    <tr>\n",
       "      <th>4</th>\n",
       "      <td>1985-01-01 04:00:00+00:00</td>\n",
       "      <td>0.33</td>\n",
       "      <td>1</td>\n",
       "      <td>1</td>\n",
       "      <td>1</td>\n",
       "      <td>1979-01-01 04:00:00+00:00</td>\n",
       "      <td>0.34</td>\n",
       "    </tr>\n",
       "  </tbody>\n",
       "</table>\n",
       "</div>"
      ],
      "text/plain": [
       "               datetime_iso  rain_1h  day_of_the_week  month  season  \\\n",
       "0 1985-01-01 00:00:00+00:00     0.00                1      1       1   \n",
       "1 1985-01-01 01:00:00+00:00     0.11                1      1       1   \n",
       "2 1985-01-01 02:00:00+00:00     0.10                1      1       1   \n",
       "3 1985-01-01 03:00:00+00:00     0.13                1      1       1   \n",
       "4 1985-01-01 04:00:00+00:00     0.33                1      1       1   \n",
       "\n",
       "   lag_rain_1h_6_years_date  lag_rain_1h_6_years_value  \n",
       "0 1979-01-01 00:00:00+00:00                       0.00  \n",
       "1 1979-01-01 01:00:00+00:00                       0.00  \n",
       "2 1979-01-01 02:00:00+00:00                       0.00  \n",
       "3 1979-01-01 03:00:00+00:00                       0.13  \n",
       "4 1979-01-01 04:00:00+00:00                       0.34  "
      ]
     },
     "execution_count": 15,
     "metadata": {},
     "output_type": "execute_result"
    }
   ],
   "source": [
    "result_df.head()\n",
    "result_df.drop(['lag_rain_1h_6_years_date'])"
   ]
  },
  {
   "cell_type": "markdown",
   "id": "7cbee12b-711e-46e1-a061-13a1f8028312",
   "metadata": {},
   "source": [
    "## Kita uji dengan model sederhana saja: random forest"
   ]
  },
  {
   "cell_type": "code",
   "execution_count": 13,
   "id": "9aea43af-1997-42f1-b010-7960e87f1f66",
   "metadata": {},
   "outputs": [],
   "source": [
    "from sklearn.ensemble import RandomForestRegressor\n",
    "from sklearn.model_selection import train_test_split\n",
    "from sklearn.metrics import mean_squared_error\n",
    "import numpy as np"
   ]
  },
  {
   "cell_type": "code",
   "execution_count": null,
   "id": "1f36f9c8-b7bd-4b06-b869-cd6cb7bd86a9",
   "metadata": {},
   "outputs": [],
   "source": [
    "X = df_train"
   ]
  },
  {
   "cell_type": "code",
   "execution_count": 14,
   "id": "95fd3161-6be7-4db4-a345-ebfefc523c15",
   "metadata": {},
   "outputs": [
    {
     "ename": "NameError",
     "evalue": "name 'X' is not defined",
     "output_type": "error",
     "traceback": [
      "\u001b[0;31m---------------------------------------------------------------------------\u001b[0m",
      "\u001b[0;31mNameError\u001b[0m                                 Traceback (most recent call last)",
      "Cell \u001b[0;32mIn[14], line 1\u001b[0m\n\u001b[0;32m----> 1\u001b[0m X_train, X_test, y_train, y_test \u001b[38;5;241m=\u001b[39m train_test_split(\u001b[43mX\u001b[49m, y, test_size\u001b[38;5;241m=\u001b[39m\u001b[38;5;241m0.2\u001b[39m, random_state\u001b[38;5;241m=\u001b[39m\u001b[38;5;241m42\u001b[39m)\n",
      "\u001b[0;31mNameError\u001b[0m: name 'X' is not defined"
     ]
    }
   ],
   "source": [
    "X_train, X_test, y_train, y_test = train_test_split(X, y, test_size=0.2, random_state=42)"
   ]
  },
  {
   "cell_type": "code",
   "execution_count": null,
   "id": "e1635ca0-2788-4c07-b73f-d31ef01e5943",
   "metadata": {},
   "outputs": [],
   "source": []
  }
 ],
 "metadata": {
  "kernelspec": {
   "display_name": "Python 3 (ipykernel)",
   "language": "python",
   "name": "python3"
  },
  "language_info": {
   "codemirror_mode": {
    "name": "ipython",
    "version": 3
   },
   "file_extension": ".py",
   "mimetype": "text/x-python",
   "name": "python",
   "nbconvert_exporter": "python",
   "pygments_lexer": "ipython3",
   "version": "3.10.12"
  }
 },
 "nbformat": 4,
 "nbformat_minor": 5
}
