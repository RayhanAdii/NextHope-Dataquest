{
 "cells": [
  {
   "cell_type": "markdown",
   "id": "a1c6e937-f6e7-4566-ad82-9a1a95e54ac5",
   "metadata": {},
   "source": [
    "# 5. Data Preprocessing\n",
    "\n",
    "Disini kita bakal:\n",
    "- Null Handling\n",
    "- Outlier Handling"
   ]
  },
  {
   "cell_type": "code",
   "execution_count": 1,
   "id": "97dc9d58-bb88-4c17-9769-b2eb98c6e928",
   "metadata": {},
   "outputs": [],
   "source": [
    "import pandas as pd\n",
    "import numpy as np"
   ]
  },
  {
   "cell_type": "code",
   "execution_count": 2,
   "id": "9872e4d8-4a67-4773-90ad-ad7b39b16002",
   "metadata": {},
   "outputs": [],
   "source": [
    "df_train = pd.read_csv('./dataset/train_cleaned.csv')\n",
    "df_train['datetime_iso'] = pd.to_datetime(df_train['datetime_iso'])\n",
    "\n",
    "df_test = pd.read_csv('./dataset/test_cleaned.csv')\n",
    "df_test['datetime_iso'] = pd.to_datetime(df_test['datetime_iso'])"
   ]
  },
  {
   "cell_type": "code",
   "execution_count": 3,
   "id": "aaaf19ad-936e-42e4-a148-4c6d2ce9064b",
   "metadata": {},
   "outputs": [
    {
     "name": "stdout",
     "output_type": "stream",
     "text": [
      "<class 'pandas.core.frame.DataFrame'>\n",
      "RangeIndex: 341880 entries, 0 to 341879\n",
      "Data columns (total 20 columns):\n",
      " #   Column        Non-Null Count   Dtype              \n",
      "---  ------        --------------   -----              \n",
      " 0   datetime      341880 non-null  int64              \n",
      " 1   datetime_iso  341880 non-null  datetime64[ns, UTC]\n",
      " 2   time-zone     341880 non-null  int64              \n",
      " 3   temp          341880 non-null  float64            \n",
      " 4   visibility    51112 non-null   object             \n",
      " 5   d_point       341880 non-null  float64            \n",
      " 6   feels         341880 non-null  float64            \n",
      " 7   min_temp      341880 non-null  float64            \n",
      " 8   max_temp      341880 non-null  float64            \n",
      " 9   prssr         341880 non-null  float64            \n",
      " 10  sea_level     192964 non-null  object             \n",
      " 11  grnd_level    192919 non-null  object             \n",
      " 12  hum           341880 non-null  float64            \n",
      " 13  wind_spd      339654 non-null  float64            \n",
      " 14  wind_deg      341880 non-null  float64            \n",
      " 15  rain_1h       341880 non-null  float64            \n",
      " 16  rain_3h       192329 non-null  object             \n",
      " 17  snow_1h       192696 non-null  object             \n",
      " 18  snow_3h       192699 non-null  object             \n",
      " 19  clouds        341880 non-null  float64            \n",
      "dtypes: datetime64[ns, UTC](1), float64(11), int64(2), object(6)\n",
      "memory usage: 52.2+ MB\n"
     ]
    }
   ],
   "source": [
    "df_train.info()"
   ]
  },
  {
   "cell_type": "markdown",
   "id": "21537590-a3b7-4f04-8b09-fac0ddc5deda",
   "metadata": {},
   "source": [
    "## Drop unnecesary Feature"
   ]
  },
  {
   "cell_type": "code",
   "execution_count": 4,
   "id": "dcb80450-e282-4195-866b-39815af4c66e",
   "metadata": {},
   "outputs": [],
   "source": [
    "df_train = df_train.drop(['datetime','time-zone','visibility','sea_level','grnd_level','rain_3h','snow_1h','snow_3h'],axis = 1)\n",
    "df_test = df_test.drop(['datetime','time-zone','visibility','sea_level','grnd_level','rain_3h','snow_1h','snow_3h'],axis = 1)"
   ]
  },
  {
   "cell_type": "code",
   "execution_count": 5,
   "id": "b3d4f223-a9d7-4585-b008-7b9a49b99fc9",
   "metadata": {},
   "outputs": [
    {
     "data": {
      "text/html": [
       "<div>\n",
       "<style scoped>\n",
       "    .dataframe tbody tr th:only-of-type {\n",
       "        vertical-align: middle;\n",
       "    }\n",
       "\n",
       "    .dataframe tbody tr th {\n",
       "        vertical-align: top;\n",
       "    }\n",
       "\n",
       "    .dataframe thead th {\n",
       "        text-align: right;\n",
       "    }\n",
       "</style>\n",
       "<table border=\"1\" class=\"dataframe\">\n",
       "  <thead>\n",
       "    <tr style=\"text-align: right;\">\n",
       "      <th></th>\n",
       "      <th>datetime_iso</th>\n",
       "      <th>temp</th>\n",
       "      <th>d_point</th>\n",
       "      <th>feels</th>\n",
       "      <th>min_temp</th>\n",
       "      <th>max_temp</th>\n",
       "      <th>prssr</th>\n",
       "      <th>hum</th>\n",
       "      <th>wind_spd</th>\n",
       "      <th>wind_deg</th>\n",
       "      <th>rain_1h</th>\n",
       "      <th>clouds</th>\n",
       "    </tr>\n",
       "  </thead>\n",
       "  <tbody>\n",
       "    <tr>\n",
       "      <th>0</th>\n",
       "      <td>1979-01-01 00:00:00+00:00</td>\n",
       "      <td>24.75</td>\n",
       "      <td>23.89</td>\n",
       "      <td>25.76</td>\n",
       "      <td>24.28</td>\n",
       "      <td>25.22</td>\n",
       "      <td>1012.0</td>\n",
       "      <td>95.0</td>\n",
       "      <td>0.82</td>\n",
       "      <td>320.0</td>\n",
       "      <td>0.00</td>\n",
       "      <td>100.0</td>\n",
       "    </tr>\n",
       "    <tr>\n",
       "      <th>1</th>\n",
       "      <td>1979-01-01 01:00:00+00:00</td>\n",
       "      <td>24.58</td>\n",
       "      <td>23.73</td>\n",
       "      <td>25.57</td>\n",
       "      <td>23.99</td>\n",
       "      <td>25.26</td>\n",
       "      <td>1012.0</td>\n",
       "      <td>95.0</td>\n",
       "      <td>0.96</td>\n",
       "      <td>338.0</td>\n",
       "      <td>0.00</td>\n",
       "      <td>100.0</td>\n",
       "    </tr>\n",
       "    <tr>\n",
       "      <th>2</th>\n",
       "      <td>1979-01-01 02:00:00+00:00</td>\n",
       "      <td>26.60</td>\n",
       "      <td>24.06</td>\n",
       "      <td>26.60</td>\n",
       "      <td>26.10</td>\n",
       "      <td>27.39</td>\n",
       "      <td>1012.0</td>\n",
       "      <td>86.0</td>\n",
       "      <td>1.22</td>\n",
       "      <td>339.0</td>\n",
       "      <td>0.00</td>\n",
       "      <td>99.0</td>\n",
       "    </tr>\n",
       "    <tr>\n",
       "      <th>3</th>\n",
       "      <td>1979-01-01 03:00:00+00:00</td>\n",
       "      <td>27.31</td>\n",
       "      <td>24.37</td>\n",
       "      <td>30.90</td>\n",
       "      <td>26.59</td>\n",
       "      <td>28.36</td>\n",
       "      <td>1012.0</td>\n",
       "      <td>84.0</td>\n",
       "      <td>1.08</td>\n",
       "      <td>342.0</td>\n",
       "      <td>0.13</td>\n",
       "      <td>94.0</td>\n",
       "    </tr>\n",
       "    <tr>\n",
       "      <th>4</th>\n",
       "      <td>1979-01-01 04:00:00+00:00</td>\n",
       "      <td>27.41</td>\n",
       "      <td>25.05</td>\n",
       "      <td>31.54</td>\n",
       "      <td>26.58</td>\n",
       "      <td>28.31</td>\n",
       "      <td>1011.0</td>\n",
       "      <td>87.0</td>\n",
       "      <td>0.86</td>\n",
       "      <td>336.0</td>\n",
       "      <td>0.34</td>\n",
       "      <td>100.0</td>\n",
       "    </tr>\n",
       "  </tbody>\n",
       "</table>\n",
       "</div>"
      ],
      "text/plain": [
       "               datetime_iso   temp  d_point  feels  min_temp  max_temp  \\\n",
       "0 1979-01-01 00:00:00+00:00  24.75    23.89  25.76     24.28     25.22   \n",
       "1 1979-01-01 01:00:00+00:00  24.58    23.73  25.57     23.99     25.26   \n",
       "2 1979-01-01 02:00:00+00:00  26.60    24.06  26.60     26.10     27.39   \n",
       "3 1979-01-01 03:00:00+00:00  27.31    24.37  30.90     26.59     28.36   \n",
       "4 1979-01-01 04:00:00+00:00  27.41    25.05  31.54     26.58     28.31   \n",
       "\n",
       "    prssr   hum  wind_spd  wind_deg  rain_1h  clouds  \n",
       "0  1012.0  95.0      0.82     320.0     0.00   100.0  \n",
       "1  1012.0  95.0      0.96     338.0     0.00   100.0  \n",
       "2  1012.0  86.0      1.22     339.0     0.00    99.0  \n",
       "3  1012.0  84.0      1.08     342.0     0.13    94.0  \n",
       "4  1011.0  87.0      0.86     336.0     0.34   100.0  "
      ]
     },
     "execution_count": 5,
     "metadata": {},
     "output_type": "execute_result"
    }
   ],
   "source": [
    "df_train.head()"
   ]
  },
  {
   "cell_type": "markdown",
   "id": "63e558ca-8f33-4e1c-8d65-d263323765b5",
   "metadata": {},
   "source": [
    "# Null Handling"
   ]
  },
  {
   "cell_type": "markdown",
   "id": "63a2c110-88a0-4217-9e1d-092b9dacf3d7",
   "metadata": {},
   "source": [
    "## Null Handling: Median"
   ]
  },
  {
   "cell_type": "markdown",
   "id": "2dbb3af3-14e2-4abf-8d71-3bea296ac014",
   "metadata": {},
   "source": [
    "Hanya ada satu feature yang memiliki null, yaitu wind_spd.\n",
    "\n",
    "Oh ternyata ada d_point yang null di df_test"
   ]
  },
  {
   "cell_type": "code",
   "execution_count": 6,
   "id": "e3527b21-05bd-48fd-bf2c-9b2f79776ec7",
   "metadata": {},
   "outputs": [],
   "source": [
    "df_train['wind_spd'] = df_train['wind_spd'].interpolate(method='linear')\n",
    "df_test['wind_spd'] = df_test['wind_spd'].interpolate(method='linear')\n",
    "df_test['d_point'] = df_test['d_point'].interpolate(method='linear')"
   ]
  },
  {
   "cell_type": "code",
   "execution_count": 7,
   "id": "5c9fb0ba-11da-4069-b488-3ea05a2ea832",
   "metadata": {},
   "outputs": [
    {
     "name": "stdout",
     "output_type": "stream",
     "text": [
      "<class 'pandas.core.frame.DataFrame'>\n",
      "RangeIndex: 341880 entries, 0 to 341879\n",
      "Data columns (total 12 columns):\n",
      " #   Column        Non-Null Count   Dtype              \n",
      "---  ------        --------------   -----              \n",
      " 0   datetime_iso  341880 non-null  datetime64[ns, UTC]\n",
      " 1   temp          341880 non-null  float64            \n",
      " 2   d_point       341880 non-null  float64            \n",
      " 3   feels         341880 non-null  float64            \n",
      " 4   min_temp      341880 non-null  float64            \n",
      " 5   max_temp      341880 non-null  float64            \n",
      " 6   prssr         341880 non-null  float64            \n",
      " 7   hum           341880 non-null  float64            \n",
      " 8   wind_spd      341880 non-null  float64            \n",
      " 9   wind_deg      341880 non-null  float64            \n",
      " 10  rain_1h       341880 non-null  float64            \n",
      " 11  clouds        341880 non-null  float64            \n",
      "dtypes: datetime64[ns, UTC](1), float64(11)\n",
      "memory usage: 31.3 MB\n"
     ]
    }
   ],
   "source": [
    "df_train.info()"
   ]
  },
  {
   "cell_type": "code",
   "execution_count": 8,
   "id": "d365ed42-c8ae-413a-8a17-e0015c97d764",
   "metadata": {},
   "outputs": [
    {
     "name": "stdout",
     "output_type": "stream",
     "text": [
      "<class 'pandas.core.frame.DataFrame'>\n",
      "RangeIndex: 49368 entries, 0 to 49367\n",
      "Data columns (total 11 columns):\n",
      " #   Column        Non-Null Count  Dtype              \n",
      "---  ------        --------------  -----              \n",
      " 0   datetime_iso  49368 non-null  datetime64[ns, UTC]\n",
      " 1   temp          49368 non-null  float64            \n",
      " 2   d_point       49368 non-null  float64            \n",
      " 3   feels         49368 non-null  float64            \n",
      " 4   min_temp      49368 non-null  float64            \n",
      " 5   max_temp      49368 non-null  float64            \n",
      " 6   prssr         49368 non-null  float64            \n",
      " 7   hum           49368 non-null  float64            \n",
      " 8   wind_spd      49368 non-null  float64            \n",
      " 9   wind_deg      49368 non-null  float64            \n",
      " 10  clouds        49368 non-null  float64            \n",
      "dtypes: datetime64[ns, UTC](1), float64(10)\n",
      "memory usage: 4.1 MB\n"
     ]
    }
   ],
   "source": [
    "df_test.info()"
   ]
  },
  {
   "cell_type": "markdown",
   "id": "82f9c1e1-e9b9-4921-971e-919b67235cee",
   "metadata": {},
   "source": [
    "# Outlier Handling"
   ]
  },
  {
   "cell_type": "markdown",
   "id": "a19c1ba4-8a15-4f18-9ffa-a93c47a30f72",
   "metadata": {},
   "source": [
    "## Outlier Handling: Interpolation"
   ]
  },
  {
   "cell_type": "code",
   "execution_count": 9,
   "id": "e7a6913a-5762-409a-8ad3-1a12af455250",
   "metadata": {},
   "outputs": [],
   "source": [
    "df_train = df_train.drop(['datetime_iso'],axis = 1)"
   ]
  },
  {
   "cell_type": "markdown",
   "id": "f4c8008a-ed78-4ffe-a686-b093cdad18db",
   "metadata": {},
   "source": [
    "Konsep Kerja: Ada outlier -> Dijadiin Null -> Diinterpolasi lagi hehe"
   ]
  },
  {
   "cell_type": "code",
   "execution_count": 11,
   "id": "be05db63-19d4-477b-a811-aedba343968d",
   "metadata": {},
   "outputs": [
    {
     "name": "stdout",
     "output_type": "stream",
     "text": [
      "         temp  d_point   feels  min_temp  max_temp   prssr   hum  wind_spd  \\\n",
      "0       24.75    23.89   25.76     24.28     25.22  1012.0  95.0      0.82   \n",
      "1       24.58    23.73   25.57     23.99     25.26  1012.0  95.0      0.96   \n",
      "2       26.60    24.06   26.60     26.10     27.39  1012.0  86.0      1.22   \n",
      "3       27.31    24.37   30.90     26.59     28.36  1012.0  84.0      1.08   \n",
      "4       27.41    25.05   31.54     26.58     28.31  1011.0  87.0      0.86   \n",
      "...       ...      ...     ...       ...       ...     ...   ...       ...   \n",
      "341875  25.06    24.55  131.53     24.44     25.69  1007.0  97.0      0.90   \n",
      "341876  24.51    24.17   25.58     23.89     25.13  1006.0  98.0      0.85   \n",
      "341877  24.63    24.29  129.32     24.00    126.96  1007.0  98.0      1.54   \n",
      "341878  26.68    24.71   29.76     25.02     27.25  1008.0  89.0      1.46   \n",
      "341879  26.49    24.90   26.49     26.02     27.09  1008.0  91.0      1.56   \n",
      "\n",
      "        wind_deg  rain_1h  clouds  \n",
      "0          320.0     0.00   100.0  \n",
      "1          338.0     0.00   100.0  \n",
      "2          339.0     0.00    99.0  \n",
      "3          342.0     0.13    94.0  \n",
      "4          336.0     0.34   100.0  \n",
      "...          ...      ...     ...  \n",
      "341875      13.0     0.00    99.0  \n",
      "341876      21.0     0.00   100.0  \n",
      "341877      26.0     0.00    97.0  \n",
      "341878      17.0     0.30    98.0  \n",
      "341879       6.0     0.19    99.0  \n",
      "\n",
      "[341880 rows x 11 columns]\n"
     ]
    }
   ],
   "source": [
    "# Function to identify outliers using 1.5 IQR rule\n",
    "def identify_outliers(series):\n",
    "    Q1 = series.quantile(0.25)\n",
    "    Q3 = series.quantile(0.75)\n",
    "    IQR = Q3 - Q1\n",
    "    lower_bound = Q1 - 1.5 * IQR\n",
    "    upper_bound = Q3 + 1.5 * IQR\n",
    "    return (series < lower_bound) | (series > upper_bound)\n",
    "\n",
    "# Identify rows with at least one outlier\n",
    "outlier_mask = df_train.apply(identify_outliers, axis=1).any(axis=1)\n",
    "\n",
    "# Create a new DataFrame with the rows containing outliers\n",
    "new_df = df_train[outlier_mask]\n",
    "\n",
    "# Print the new DataFrame\n",
    "print(new_df)"
   ]
  },
  {
   "cell_type": "code",
   "execution_count": null,
   "id": "caed6a80-3da6-4909-8f9b-ac30aff44af4",
   "metadata": {},
   "outputs": [],
   "source": [
    "new_df"
   ]
  },
  {
   "cell_type": "code",
   "execution_count": 12,
   "id": "57f79b92-1935-4c98-9692-554702d73de5",
   "metadata": {},
   "outputs": [
    {
     "name": "stderr",
     "output_type": "stream",
     "text": [
      "/tmp/ipykernel_7767/431252046.py:29: FutureWarning: The frame.append method is deprecated and will be removed from pandas in a future version. Use pandas.concat instead.\n",
      "  rows_with_null.append(df_train.loc[(df_train[columnName] < lwr_bound) | (df_train[columnName] > upr_bound), columnName])\n",
      "/tmp/ipykernel_7767/431252046.py:29: FutureWarning: The frame.append method is deprecated and will be removed from pandas in a future version. Use pandas.concat instead.\n",
      "  rows_with_null.append(df_train.loc[(df_train[columnName] < lwr_bound) | (df_train[columnName] > upr_bound), columnName])\n",
      "/tmp/ipykernel_7767/431252046.py:29: FutureWarning: The frame.append method is deprecated and will be removed from pandas in a future version. Use pandas.concat instead.\n",
      "  rows_with_null.append(df_train.loc[(df_train[columnName] < lwr_bound) | (df_train[columnName] > upr_bound), columnName])\n",
      "/tmp/ipykernel_7767/431252046.py:29: FutureWarning: The frame.append method is deprecated and will be removed from pandas in a future version. Use pandas.concat instead.\n",
      "  rows_with_null.append(df_train.loc[(df_train[columnName] < lwr_bound) | (df_train[columnName] > upr_bound), columnName])\n",
      "/tmp/ipykernel_7767/431252046.py:29: FutureWarning: The frame.append method is deprecated and will be removed from pandas in a future version. Use pandas.concat instead.\n",
      "  rows_with_null.append(df_train.loc[(df_train[columnName] < lwr_bound) | (df_train[columnName] > upr_bound), columnName])\n",
      "/tmp/ipykernel_7767/431252046.py:29: FutureWarning: The frame.append method is deprecated and will be removed from pandas in a future version. Use pandas.concat instead.\n",
      "  rows_with_null.append(df_train.loc[(df_train[columnName] < lwr_bound) | (df_train[columnName] > upr_bound), columnName])\n",
      "/tmp/ipykernel_7767/431252046.py:29: FutureWarning: The frame.append method is deprecated and will be removed from pandas in a future version. Use pandas.concat instead.\n",
      "  rows_with_null.append(df_train.loc[(df_train[columnName] < lwr_bound) | (df_train[columnName] > upr_bound), columnName])\n",
      "/tmp/ipykernel_7767/431252046.py:29: FutureWarning: The frame.append method is deprecated and will be removed from pandas in a future version. Use pandas.concat instead.\n",
      "  rows_with_null.append(df_train.loc[(df_train[columnName] < lwr_bound) | (df_train[columnName] > upr_bound), columnName])\n",
      "/tmp/ipykernel_7767/431252046.py:29: FutureWarning: The frame.append method is deprecated and will be removed from pandas in a future version. Use pandas.concat instead.\n",
      "  rows_with_null.append(df_train.loc[(df_train[columnName] < lwr_bound) | (df_train[columnName] > upr_bound), columnName])\n",
      "/tmp/ipykernel_7767/431252046.py:29: FutureWarning: The frame.append method is deprecated and will be removed from pandas in a future version. Use pandas.concat instead.\n",
      "  rows_with_null.append(df_train.loc[(df_train[columnName] < lwr_bound) | (df_train[columnName] > upr_bound), columnName])\n"
     ]
    }
   ],
   "source": [
    "#Outlier Detection and Replacement (Quantile and Median Method)\n",
    "\n",
    "df_columns_outlier_handle = ['temp',\n",
    " 'd_point',\n",
    " 'feels',\n",
    " 'min_temp',\n",
    " 'max_temp',\n",
    " 'prssr',\n",
    " 'hum',\n",
    " 'wind_spd',\n",
    " 'wind_deg',\n",
    " 'clouds']\n",
    "\n",
    "# df_outhand = df_train.copy()\n",
    "\n",
    "for columnName in df_columns_outlier_handle:\n",
    "  #detecting outliers (1.5 below/above)\n",
    "  Q1 = df_train[columnName].quantile(0.25)\n",
    "  Q3 = df_train[columnName].quantile(0.75)\n",
    "  # print(Q1, Q3)\n",
    "  IQR = Q3-Q1\n",
    "  # print(IQR)\n",
    "  lwr_bound = Q1-(1.5*IQR)\n",
    "  upr_bound = Q3+(1.5*IQR)\n",
    "\n",
    "  # #replace with median \n",
    "  median = np.median(df_train[columnName])\n",
    "\n",
    "  df_train.loc[(df_train[columnName] < lwr_bound) | (df_train[columnName] > upr_bound), columnName] = np.nan\n",
    "    \n",
    "    \n",
    "for columnName in df_columns_outlier_handle:\n",
    "  #detecting outliers (1.5 below/above)\n",
    "  Q1 = df_test[columnName].quantile(0.25)\n",
    "  Q3 = df_test[columnName].quantile(0.75)\n",
    "  # print(Q1, Q3)\n",
    "  IQR = Q3-Q1\n",
    "  # print(IQR)\n",
    "  lwr_bound = Q1-(1.5*IQR)\n",
    "  upr_bound = Q3+(1.5*IQR)\n",
    "\n",
    "  # #replace with median \n",
    "  median = np.median(df_test[columnName])\n",
    "\n",
    "  df_test.loc[(df_test[columnName] < lwr_bound) | (df_test[columnName] > upr_bound), columnName] = np.nan"
   ]
  },
  {
   "cell_type": "code",
   "execution_count": 13,
   "id": "6d3f44e3-1381-4fea-aeb0-ea45ee7cbb71",
   "metadata": {},
   "outputs": [
    {
     "name": "stdout",
     "output_type": "stream",
     "text": [
      "<class 'pandas.core.frame.DataFrame'>\n",
      "RangeIndex: 341880 entries, 0 to 341879\n",
      "Data columns (total 12 columns):\n",
      " #   Column        Non-Null Count   Dtype              \n",
      "---  ------        --------------   -----              \n",
      " 0   datetime_iso  341880 non-null  datetime64[ns, UTC]\n",
      " 1   temp          336091 non-null  float64            \n",
      " 2   d_point       331649 non-null  float64            \n",
      " 3   feels         336752 non-null  float64            \n",
      " 4   min_temp      336605 non-null  float64            \n",
      " 5   max_temp      335463 non-null  float64            \n",
      " 6   prssr         331992 non-null  float64            \n",
      " 7   hum           330010 non-null  float64            \n",
      " 8   wind_spd      322168 non-null  float64            \n",
      " 9   wind_deg      337639 non-null  float64            \n",
      " 10  rain_1h       341880 non-null  float64            \n",
      " 11  clouds        239403 non-null  float64            \n",
      "dtypes: datetime64[ns, UTC](1), float64(11)\n",
      "memory usage: 31.3 MB\n"
     ]
    }
   ],
   "source": [
    "df_train.info()"
   ]
  },
  {
   "cell_type": "code",
   "execution_count": 11,
   "id": "c43cffae-6cf1-474a-9624-01a0e83d8590",
   "metadata": {},
   "outputs": [
    {
     "name": "stdout",
     "output_type": "stream",
     "text": [
      "<class 'pandas.core.frame.DataFrame'>\n",
      "RangeIndex: 49368 entries, 0 to 49367\n",
      "Data columns (total 11 columns):\n",
      " #   Column        Non-Null Count  Dtype              \n",
      "---  ------        --------------  -----              \n",
      " 0   datetime_iso  49368 non-null  datetime64[ns, UTC]\n",
      " 1   temp          49363 non-null  float64            \n",
      " 2   d_point       48505 non-null  float64            \n",
      " 3   feels         49367 non-null  float64            \n",
      " 4   min_temp      49364 non-null  float64            \n",
      " 5   max_temp      49352 non-null  float64            \n",
      " 6   prssr         48784 non-null  float64            \n",
      " 7   hum           48634 non-null  float64            \n",
      " 8   wind_spd      47863 non-null  float64            \n",
      " 9   wind_deg      49368 non-null  float64            \n",
      " 10  clouds        43665 non-null  float64            \n",
      "dtypes: datetime64[ns, UTC](1), float64(10)\n",
      "memory usage: 4.1 MB\n"
     ]
    }
   ],
   "source": [
    "df_test.info()"
   ]
  },
  {
   "cell_type": "code",
   "execution_count": 14,
   "id": "bfffc3b4-23cc-44e7-b186-0b1f26ae6d87",
   "metadata": {},
   "outputs": [
    {
     "data": {
      "text/html": [
       "<div>\n",
       "<style scoped>\n",
       "    .dataframe tbody tr th:only-of-type {\n",
       "        vertical-align: middle;\n",
       "    }\n",
       "\n",
       "    .dataframe tbody tr th {\n",
       "        vertical-align: top;\n",
       "    }\n",
       "\n",
       "    .dataframe thead th {\n",
       "        text-align: right;\n",
       "    }\n",
       "</style>\n",
       "<table border=\"1\" class=\"dataframe\">\n",
       "  <thead>\n",
       "    <tr style=\"text-align: right;\">\n",
       "      <th></th>\n",
       "    </tr>\n",
       "  </thead>\n",
       "  <tbody>\n",
       "  </tbody>\n",
       "</table>\n",
       "</div>"
      ],
      "text/plain": [
       "Empty DataFrame\n",
       "Columns: []\n",
       "Index: []"
      ]
     },
     "execution_count": 14,
     "metadata": {},
     "output_type": "execute_result"
    }
   ],
   "source": [
    "#rows_with_null = df_train[df_train.isnull().any(axis=1)]\n",
    "rows_with_null.head(30)"
   ]
  },
  {
   "cell_type": "markdown",
   "id": "32775155-063b-4b3c-ad43-9f3da864330b",
   "metadata": {},
   "source": [
    "### Isi elemen yang jadi null dengan interpolasi"
   ]
  },
  {
   "cell_type": "code",
   "execution_count": 12,
   "id": "dc3595cb-91dc-4bcd-9f2d-e0716e980ec9",
   "metadata": {},
   "outputs": [],
   "source": [
    "for columnName in df_columns_outlier_handle:\n",
    "    df_train[columnName] = df_train[columnName].interpolate(method='linear')\n",
    "    df_test[columnName] = df_test[columnName].interpolate(method='linear')"
   ]
  },
  {
   "cell_type": "code",
   "execution_count": 13,
   "id": "3759b0d1-c35f-469b-a981-3ad1d203ef7c",
   "metadata": {},
   "outputs": [
    {
     "name": "stdout",
     "output_type": "stream",
     "text": [
      "<class 'pandas.core.frame.DataFrame'>\n",
      "RangeIndex: 341880 entries, 0 to 341879\n",
      "Data columns (total 12 columns):\n",
      " #   Column        Non-Null Count   Dtype              \n",
      "---  ------        --------------   -----              \n",
      " 0   datetime_iso  341880 non-null  datetime64[ns, UTC]\n",
      " 1   temp          341880 non-null  float64            \n",
      " 2   d_point       341880 non-null  float64            \n",
      " 3   feels         341880 non-null  float64            \n",
      " 4   min_temp      341880 non-null  float64            \n",
      " 5   max_temp      341880 non-null  float64            \n",
      " 6   prssr         341880 non-null  float64            \n",
      " 7   hum           341880 non-null  float64            \n",
      " 8   wind_spd      341880 non-null  float64            \n",
      " 9   wind_deg      341880 non-null  float64            \n",
      " 10  rain_1h       341880 non-null  float64            \n",
      " 11  clouds        341880 non-null  float64            \n",
      "dtypes: datetime64[ns, UTC](1), float64(11)\n",
      "memory usage: 31.3 MB\n"
     ]
    }
   ],
   "source": [
    "df_train.info()"
   ]
  },
  {
   "cell_type": "code",
   "execution_count": 14,
   "id": "59998b0f-c2b0-4c78-8b64-4300b2a9e311",
   "metadata": {},
   "outputs": [
    {
     "name": "stdout",
     "output_type": "stream",
     "text": [
      "<class 'pandas.core.frame.DataFrame'>\n",
      "RangeIndex: 49368 entries, 0 to 49367\n",
      "Data columns (total 11 columns):\n",
      " #   Column        Non-Null Count  Dtype              \n",
      "---  ------        --------------  -----              \n",
      " 0   datetime_iso  49368 non-null  datetime64[ns, UTC]\n",
      " 1   temp          49368 non-null  float64            \n",
      " 2   d_point       49368 non-null  float64            \n",
      " 3   feels         49368 non-null  float64            \n",
      " 4   min_temp      49368 non-null  float64            \n",
      " 5   max_temp      49368 non-null  float64            \n",
      " 6   prssr         49368 non-null  float64            \n",
      " 7   hum           49368 non-null  float64            \n",
      " 8   wind_spd      49368 non-null  float64            \n",
      " 9   wind_deg      49368 non-null  float64            \n",
      " 10  clouds        49368 non-null  float64            \n",
      "dtypes: datetime64[ns, UTC](1), float64(10)\n",
      "memory usage: 4.1 MB\n"
     ]
    }
   ],
   "source": [
    "df_test.info()"
   ]
  },
  {
   "cell_type": "markdown",
   "id": "28a15b24-22e0-4864-8928-ade345d7f3c2",
   "metadata": {},
   "source": [
    "### Save in csv"
   ]
  },
  {
   "cell_type": "code",
   "execution_count": 15,
   "id": "e5e0da75-77bb-4dea-ac64-cfe13d4a671d",
   "metadata": {},
   "outputs": [],
   "source": [
    "df_train.to_csv('./dataset/train_preprocessed.csv', index=False)\n",
    "df_test.to_csv('./dataset/test_preprocessed.csv', index=False)"
   ]
  },
  {
   "cell_type": "code",
   "execution_count": null,
   "id": "e9ba4626-752c-4c6c-89d6-43e512c01dfa",
   "metadata": {},
   "outputs": [],
   "source": []
  }
 ],
 "metadata": {
  "kernelspec": {
   "display_name": "Python 3 (ipykernel)",
   "language": "python",
   "name": "python3"
  },
  "language_info": {
   "codemirror_mode": {
    "name": "ipython",
    "version": 3
   },
   "file_extension": ".py",
   "mimetype": "text/x-python",
   "name": "python",
   "nbconvert_exporter": "python",
   "pygments_lexer": "ipython3",
   "version": "3.10.12"
  }
 },
 "nbformat": 4,
 "nbformat_minor": 5
}
