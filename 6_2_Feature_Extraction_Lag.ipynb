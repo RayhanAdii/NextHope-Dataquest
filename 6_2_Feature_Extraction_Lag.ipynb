{
 "cells": [
  {
   "cell_type": "code",
   "execution_count": 1,
   "id": "088ea9e3-4f53-488e-b511-0c469f804928",
   "metadata": {},
   "outputs": [],
   "source": [
    "### Create Feature: Lag 6 years ago"
   ]
  },
  {
   "cell_type": "code",
   "execution_count": null,
   "id": "1f0fb210-ad17-4cb1-b225-2a54a0b97ef6",
   "metadata": {},
   "outputs": [],
   "source": [
    "# Specify the number of years to lag\n",
    "lag_years = 6\n",
    "\n",
    "# Calculate the lagged date\n",
    "df_train['lag_rain_1h_6_years_date'] = df_train['datetime_iso'] - pd.DateOffset(years=lag_years)\n",
    "df_test['lag_rain_1h_6_years_date'] = df_test['datetime_iso'] - pd.DateOffset(years=lag_years)\n",
    "\n",
    "df_train['lag_rain_1h_6_years_date'] = pd.to_datetime(df_train['lag_rain_1h_6_years_date'])\n",
    "df_test['lag_rain_1h_6_years_date'] = pd.to_datetime(df_test['lag_rain_1h_6_years_date'])\n",
    "\n",
    "# Merge the DataFrame with itself to get lag_rain_1h_6_years_value\n",
    "result_df =df_train.merge(df_train[['datetime_iso', 'rain_1h']], left_on='lag_rain_1h_6_years_date', right_on='datetime_iso', suffixes=('', '_lag'))\n",
    "\n",
    "# Rename the 'rain_1h_lag' column to 'lag_rain_1h_6_years_value'\n",
    "result_df.rename(columns={'rain_1h_lag': 'lag_rain_1h_6_years_value'}, inplace=True)\n",
    "\n",
    "# Drop the duplicated datetime_iso column\n",
    "result_df.drop(columns='datetime_iso_lag', inplace=True)"
   ]
  },
  {
   "cell_type": "code",
   "execution_count": null,
   "id": "ae3ab2fa-f769-44c8-9271-d73f701033c8",
   "metadata": {},
   "outputs": [],
   "source": [
    "result_df.head()\n",
    "result_df.drop(['lag_rain_1h_6_years_date'])"
   ]
  }
 ],
 "metadata": {
  "kernelspec": {
   "display_name": "Python 3 (ipykernel)",
   "language": "python",
   "name": "python3"
  },
  "language_info": {
   "codemirror_mode": {
    "name": "ipython",
    "version": 3
   },
   "file_extension": ".py",
   "mimetype": "text/x-python",
   "name": "python",
   "nbconvert_exporter": "python",
   "pygments_lexer": "ipython3",
   "version": "3.10.12"
  }
 },
 "nbformat": 4,
 "nbformat_minor": 5
}
