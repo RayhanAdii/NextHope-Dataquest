{
 "cells": [
  {
   "cell_type": "markdown",
   "id": "0b31781c-e27d-4877-b6f4-ff314cccabf2",
   "metadata": {},
   "source": [
    "# 8.2. Modelling with AutoGluon\n",
    "\n"
   ]
  },
  {
   "cell_type": "code",
   "execution_count": 1,
   "id": "79b9a780-8158-449a-b93e-1b61ccbe53eb",
   "metadata": {},
   "outputs": [],
   "source": [
    "import pandas as pd"
   ]
  },
  {
   "cell_type": "code",
   "execution_count": 2,
   "id": "f086c02b-22ad-4f4d-8ab5-d86cd505f83b",
   "metadata": {},
   "outputs": [],
   "source": [
    "df_train = pd.read_csv('./dataset/train_ts_feature_added.csv')\n",
    "df_train['datetime_iso'] = pd.to_datetime(df_train['datetime_iso'])\n",
    "df_train['datetime_iso'] = df_train['datetime_iso'].dt.tz_localize(None)\n",
    "df_train['item_id'] = 'T1'\n",
    "\n",
    "df_test = pd.read_csv('./dataset/test_ts_feature_added.csv')\n",
    "df_test['datetime_iso'] = pd.to_datetime(df_test['datetime_iso'])\n",
    "df_test['datetime_iso'] = df_test['datetime_iso'].dt.tz_localize(None)\n",
    "df_test_date = df_test['datetime_iso']\n",
    "df_test['item_id'] = 'T1'"
   ]
  },
  {
   "cell_type": "code",
   "execution_count": 3,
   "id": "db9d3912-0885-4a3c-bebb-23c186aa9c2c",
   "metadata": {},
   "outputs": [
    {
     "name": "stdout",
     "output_type": "stream",
     "text": [
      "<class 'pandas.core.frame.DataFrame'>\n",
      "RangeIndex: 341880 entries, 0 to 341879\n",
      "Data columns (total 20 columns):\n",
      " #   Column              Non-Null Count   Dtype         \n",
      "---  ------              --------------   -----         \n",
      " 0   datetime_iso        341880 non-null  datetime64[ns]\n",
      " 1   temp                341880 non-null  float64       \n",
      " 2   d_point             341880 non-null  float64       \n",
      " 3   feels               341880 non-null  float64       \n",
      " 4   min_temp            341880 non-null  float64       \n",
      " 5   max_temp            341880 non-null  float64       \n",
      " 6   prssr               341880 non-null  float64       \n",
      " 7   hum                 341880 non-null  float64       \n",
      " 8   wind_spd            341880 non-null  float64       \n",
      " 9   wind_deg            341880 non-null  float64       \n",
      " 10  rain_1h             341880 non-null  float64       \n",
      " 11  clouds              341880 non-null  float64       \n",
      " 12  day_of_the_week     341880 non-null  int64         \n",
      " 13  month               341880 non-null  int64         \n",
      " 14  season              341880 non-null  int64         \n",
      " 15  yearly_mean         341880 non-null  float64       \n",
      " 16  monthly_mean        341880 non-null  float64       \n",
      " 17  weekly_mean         341880 non-null  float64       \n",
      " 18  hourly_yearly_mean  341880 non-null  float64       \n",
      " 19  item_id             341880 non-null  object        \n",
      "dtypes: datetime64[ns](1), float64(15), int64(3), object(1)\n",
      "memory usage: 52.2+ MB\n"
     ]
    }
   ],
   "source": [
    "df_train.info()"
   ]
  },
  {
   "cell_type": "code",
   "execution_count": 4,
   "id": "4422381c-4d92-46d2-8a1c-7aadc1d820bf",
   "metadata": {},
   "outputs": [],
   "source": [
    "# Kita coba pake hourly_yearly_mean sama temp  aja\n",
    "df_train = df_train[['datetime_iso','rain_1h','item_id','hourly_yearly_mean','temp','hum']]\n",
    "df_test = df_test[['datetime_iso','rain_1h','item_id','hourly_yearly_mean','temp','hum']] "
   ]
  },
  {
   "cell_type": "markdown",
   "id": "86edba07-acc9-4319-a099-be4d2a95552b",
   "metadata": {},
   "source": [
    "## Modeling"
   ]
  },
  {
   "cell_type": "code",
   "execution_count": 5,
   "id": "b2f34055-8f72-4b6f-88e9-a1090fd8043b",
   "metadata": {},
   "outputs": [
    {
     "name": "stderr",
     "output_type": "stream",
     "text": [
      "/home/rayhanadi/.local/lib/python3.10/site-packages/pkg_resources/__init__.py:116: PkgResourcesDeprecationWarning: 1.1build1 is an invalid version and will not be supported in a future release\n",
      "  warnings.warn(\n",
      "/home/rayhanadi/.local/lib/python3.10/site-packages/pkg_resources/__init__.py:116: PkgResourcesDeprecationWarning: 1.1build1 is an invalid version and will not be supported in a future release\n",
      "  warnings.warn(\n"
     ]
    }
   ],
   "source": [
    "from autogluon.timeseries import TimeSeriesDataFrame, TimeSeriesPredictor"
   ]
  },
  {
   "cell_type": "code",
   "execution_count": 6,
   "id": "e156da96-5ff8-47b2-8ffe-5d6e0b0d0f62",
   "metadata": {},
   "outputs": [
    {
     "data": {
      "text/html": [
       "<div>\n",
       "<style scoped>\n",
       "    .dataframe tbody tr th:only-of-type {\n",
       "        vertical-align: middle;\n",
       "    }\n",
       "\n",
       "    .dataframe tbody tr th {\n",
       "        vertical-align: top;\n",
       "    }\n",
       "\n",
       "    .dataframe thead th {\n",
       "        text-align: right;\n",
       "    }\n",
       "</style>\n",
       "<table border=\"1\" class=\"dataframe\">\n",
       "  <thead>\n",
       "    <tr style=\"text-align: right;\">\n",
       "      <th></th>\n",
       "      <th></th>\n",
       "      <th>rain_1h</th>\n",
       "      <th>hourly_yearly_mean</th>\n",
       "      <th>temp</th>\n",
       "      <th>hum</th>\n",
       "    </tr>\n",
       "    <tr>\n",
       "      <th>item_id</th>\n",
       "      <th>timestamp</th>\n",
       "      <th></th>\n",
       "      <th></th>\n",
       "      <th></th>\n",
       "      <th></th>\n",
       "    </tr>\n",
       "  </thead>\n",
       "  <tbody>\n",
       "    <tr>\n",
       "      <th rowspan=\"5\" valign=\"top\">T1</th>\n",
       "      <th>1979-01-01 00:00:00</th>\n",
       "      <td>0.00</td>\n",
       "      <td>0.061282</td>\n",
       "      <td>24.75</td>\n",
       "      <td>95.0</td>\n",
       "    </tr>\n",
       "    <tr>\n",
       "      <th>1979-01-01 01:00:00</th>\n",
       "      <td>0.00</td>\n",
       "      <td>0.042564</td>\n",
       "      <td>24.58</td>\n",
       "      <td>95.0</td>\n",
       "    </tr>\n",
       "    <tr>\n",
       "      <th>1979-01-01 02:00:00</th>\n",
       "      <td>0.00</td>\n",
       "      <td>0.091538</td>\n",
       "      <td>26.60</td>\n",
       "      <td>86.0</td>\n",
       "    </tr>\n",
       "    <tr>\n",
       "      <th>1979-01-01 03:00:00</th>\n",
       "      <td>0.13</td>\n",
       "      <td>0.257179</td>\n",
       "      <td>27.31</td>\n",
       "      <td>84.0</td>\n",
       "    </tr>\n",
       "    <tr>\n",
       "      <th>1979-01-01 04:00:00</th>\n",
       "      <td>0.34</td>\n",
       "      <td>0.718974</td>\n",
       "      <td>27.41</td>\n",
       "      <td>87.0</td>\n",
       "    </tr>\n",
       "  </tbody>\n",
       "</table>\n",
       "</div>"
      ],
      "text/plain": [
       "                             rain_1h  hourly_yearly_mean   temp   hum\n",
       "item_id timestamp                                                    \n",
       "T1      1979-01-01 00:00:00     0.00            0.061282  24.75  95.0\n",
       "        1979-01-01 01:00:00     0.00            0.042564  24.58  95.0\n",
       "        1979-01-01 02:00:00     0.00            0.091538  26.60  86.0\n",
       "        1979-01-01 03:00:00     0.13            0.257179  27.31  84.0\n",
       "        1979-01-01 04:00:00     0.34            0.718974  27.41  87.0"
      ]
     },
     "execution_count": 6,
     "metadata": {},
     "output_type": "execute_result"
    }
   ],
   "source": [
    "train_data = TimeSeriesDataFrame.from_data_frame(\n",
    "    df_train,\n",
    "    id_column=\"item_id\",\n",
    "    timestamp_column=\"datetime_iso\"\n",
    ")\n",
    "train_data.head()"
   ]
  },
  {
   "cell_type": "code",
   "execution_count": 7,
   "id": "7a909bfc-bfe0-4214-a4fc-e9f762bbe55c",
   "metadata": {},
   "outputs": [
    {
     "data": {
      "text/plain": [
       "Index(['datetime_iso', 'rain_1h', 'item_id', 'hourly_yearly_mean', 'temp',\n",
       "       'hum'],\n",
       "      dtype='object')"
      ]
     },
     "execution_count": 7,
     "metadata": {},
     "output_type": "execute_result"
    }
   ],
   "source": [
    "df_train.columns"
   ]
  },
  {
   "cell_type": "code",
   "execution_count": 8,
   "id": "b092d866-4c2b-4e24-8c74-309149ef8930",
   "metadata": {},
   "outputs": [
    {
     "data": {
      "text/html": [
       "<div>\n",
       "<style scoped>\n",
       "    .dataframe tbody tr th:only-of-type {\n",
       "        vertical-align: middle;\n",
       "    }\n",
       "\n",
       "    .dataframe tbody tr th {\n",
       "        vertical-align: top;\n",
       "    }\n",
       "\n",
       "    .dataframe thead th {\n",
       "        text-align: right;\n",
       "    }\n",
       "</style>\n",
       "<table border=\"1\" class=\"dataframe\">\n",
       "  <thead>\n",
       "    <tr style=\"text-align: right;\">\n",
       "      <th></th>\n",
       "      <th>rain_1h</th>\n",
       "      <th>hourly_yearly_mean</th>\n",
       "      <th>temp</th>\n",
       "      <th>hum</th>\n",
       "    </tr>\n",
       "  </thead>\n",
       "  <tbody>\n",
       "    <tr>\n",
       "      <th>count</th>\n",
       "      <td>0.0</td>\n",
       "      <td>49368.000000</td>\n",
       "      <td>49368.000000</td>\n",
       "      <td>49368.000000</td>\n",
       "    </tr>\n",
       "    <tr>\n",
       "      <th>mean</th>\n",
       "      <td>NaN</td>\n",
       "      <td>0.371508</td>\n",
       "      <td>27.297018</td>\n",
       "      <td>88.125020</td>\n",
       "    </tr>\n",
       "    <tr>\n",
       "      <th>std</th>\n",
       "      <td>NaN</td>\n",
       "      <td>0.366102</td>\n",
       "      <td>2.241756</td>\n",
       "      <td>9.195383</td>\n",
       "    </tr>\n",
       "    <tr>\n",
       "      <th>min</th>\n",
       "      <td>NaN</td>\n",
       "      <td>0.000000</td>\n",
       "      <td>22.450000</td>\n",
       "      <td>63.000000</td>\n",
       "    </tr>\n",
       "    <tr>\n",
       "      <th>25%</th>\n",
       "      <td>NaN</td>\n",
       "      <td>0.123846</td>\n",
       "      <td>25.510000</td>\n",
       "      <td>82.000000</td>\n",
       "    </tr>\n",
       "    <tr>\n",
       "      <th>50%</th>\n",
       "      <td>NaN</td>\n",
       "      <td>0.232308</td>\n",
       "      <td>26.710000</td>\n",
       "      <td>91.000000</td>\n",
       "    </tr>\n",
       "    <tr>\n",
       "      <th>75%</th>\n",
       "      <td>NaN</td>\n",
       "      <td>0.482821</td>\n",
       "      <td>29.000000</td>\n",
       "      <td>95.000000</td>\n",
       "    </tr>\n",
       "    <tr>\n",
       "      <th>max</th>\n",
       "      <td>NaN</td>\n",
       "      <td>2.270769</td>\n",
       "      <td>34.210000</td>\n",
       "      <td>100.000000</td>\n",
       "    </tr>\n",
       "  </tbody>\n",
       "</table>\n",
       "</div>"
      ],
      "text/plain": [
       "       rain_1h  hourly_yearly_mean          temp           hum\n",
       "count      0.0        49368.000000  49368.000000  49368.000000\n",
       "mean       NaN            0.371508     27.297018     88.125020\n",
       "std        NaN            0.366102      2.241756      9.195383\n",
       "min        NaN            0.000000     22.450000     63.000000\n",
       "25%        NaN            0.123846     25.510000     82.000000\n",
       "50%        NaN            0.232308     26.710000     91.000000\n",
       "75%        NaN            0.482821     29.000000     95.000000\n",
       "max        NaN            2.270769     34.210000    100.000000"
      ]
     },
     "execution_count": 8,
     "metadata": {},
     "output_type": "execute_result"
    }
   ],
   "source": [
    "df_test.describe()"
   ]
  },
  {
   "cell_type": "code",
   "execution_count": null,
   "id": "c0613a94-183b-4167-a316-19b2bc98da22",
   "metadata": {},
   "outputs": [
    {
     "name": "stderr",
     "output_type": "stream",
     "text": [
      "Warning: path already exists! This predictor may overwrite an existing predictor! path=\"autogluon-m4-hourly\"\n",
      "================ TimeSeriesPredictor ================\n",
      "TimeSeriesPredictor.fit() called\n",
      "Setting presets to: best_quality\n",
      "Fitting with arguments:\n",
      "{'enable_ensemble': True,\n",
      " 'evaluation_metric': 'RMSE',\n",
      " 'excluded_model_types': ['RecursiveTabular', 'DeepAR'],\n",
      " 'hyperparameter_tune_kwargs': {'num_trials': 3,\n",
      "                                'scheduler': 'local',\n",
      "                                'searcher': 'auto'},\n",
      " 'hyperparameters': 'best_quality',\n",
      " 'num_val_windows': 1,\n",
      " 'prediction_length': 49368,\n",
      " 'random_seed': None,\n",
      " 'target': 'rain_1h',\n",
      " 'time_limit': 1800,\n",
      " 'verbosity': 2}\n",
      "Provided training data set with 341880 rows, 1 items (item = single time series). Average time series length is 341880.0. Data frequency is 'H'.\n",
      "=====================================================\n",
      "AutoGluon will save models to autogluon-m4-hourly/\n",
      "AutoGluon will gauge predictive performance using evaluation metric: 'RMSE'\n",
      "\tThis metric's sign has been flipped to adhere to being 'higher is better'. The reported score can be multiplied by -1 to get the metric value.\n",
      "\n",
      "Provided dataset contains following columns:\n",
      "\ttarget:           'rain_1h'\n",
      "\tknown covariates: ['temp', 'hum', 'hourly_yearly_mean']\n",
      "\n",
      "Starting training. Start time is 2023-09-20 08:58:01\n",
      "Excluded model types: ['RecursiveTabular', 'DeepAR']\n",
      "\tFound 'RecursiveTabular' model in hyperparameters, but 'RecursiveTabular' is present in `excluded_model_types` and will be removed.\n",
      "\tFound 'DeepAR' model in hyperparameters, but 'DeepAR' is present in `excluded_model_types` and will be removed.\n",
      "Models that will be trained: ['Naive', 'SeasonalNaive', 'Theta', 'AutoETS', 'TemporalFusionTransformer', 'PatchTST', 'DirectTabular', 'AutoARIMA']\n",
      "Hyperparameter tuning model: Naive. Tuning model for up to 224.99s of the 1799.93s remaining.\n",
      "\t-1.0578       = Validation score (-RMSE)\n",
      "\t0.30    s     = Training runtime\n",
      "\t7.66    s     = Validation (prediction) runtime\n",
      "Hyperparameter tuning model: SeasonalNaive. Tuning model for up to 224.99s of the 1799.93s remaining.\n",
      "\t-0.9974       = Validation score (-RMSE)\n",
      "\t0.24    s     = Training runtime\n",
      "\t6.73    s     = Validation (prediction) runtime\n",
      "Hyperparameter tuning model: Theta. Tuning model for up to 224.99s of the 1799.93s remaining.\n",
      "\t-1.1090       = Validation score (-RMSE)\n",
      "\t0.24    s     = Training runtime\n",
      "\t29.70   s     = Validation (prediction) runtime\n",
      "Hyperparameter tuning model: AutoETS. Tuning model for up to 224.99s of the 1799.93s remaining.\n",
      "\t-0.9518       = Validation score (-RMSE)\n",
      "\t0.23    s     = Training runtime\n",
      "\t22.73   s     = Validation (prediction) runtime\n",
      "Hyperparameter tuning model: TemporalFusionTransformer. Tuning model for up to 224.99s of the 1799.93s remaining.\n",
      "\tWarning: Exception caused TemporalFusionTransformer to fail during training... Skipping this model.\n",
      "\t[enforce fail at alloc_cpu.cpp:75] err == 0. DefaultCPUAllocator: can't allocate memory: you tried to allocate 116985572352 bytes. Error code 12 (Cannot allocate memory)\n",
      "Hyperparameter tuning model: PatchTST. Tuning model for up to 224.99s of the 1799.93s remaining.\n"
     ]
    }
   ],
   "source": [
    "predictor = TimeSeriesPredictor(\n",
    "    prediction_length=49368,\n",
    "    path=\"autogluon-m4-hourly\",\n",
    "    target=\"rain_1h\",\n",
    "    known_covariates_names=['temp','hum', 'hourly_yearly_mean'],\n",
    "    eval_metric=\"RMSE\",\n",
    ")\n",
    "\n",
    "predictor.fit(\n",
    "    train_data,\n",
    "    presets=\"best_quality\",\n",
    "    time_limit=1800,\n",
    "    excluded_model_types=[\"RecursiveTabular\",\"DeepAR\"]\n",
    ")"
   ]
  },
  {
   "cell_type": "code",
   "execution_count": null,
   "id": "3b2e5c0b-8f49-44f3-8e19-4b8504cea9fb",
   "metadata": {},
   "outputs": [],
   "source": []
  },
  {
   "cell_type": "code",
   "execution_count": null,
   "id": "c089ffcd-3def-48e6-bb3c-ca40f5d06a1a",
   "metadata": {},
   "outputs": [],
   "source": []
  },
  {
   "cell_type": "code",
   "execution_count": null,
   "id": "78b629a1-7e19-434f-adfb-b0db493910b6",
   "metadata": {},
   "outputs": [],
   "source": []
  }
 ],
 "metadata": {
  "kernelspec": {
   "display_name": "Python 3 (ipykernel)",
   "language": "python",
   "name": "python3"
  },
  "language_info": {
   "codemirror_mode": {
    "name": "ipython",
    "version": 3
   },
   "file_extension": ".py",
   "mimetype": "text/x-python",
   "name": "python",
   "nbconvert_exporter": "python",
   "pygments_lexer": "ipython3",
   "version": "3.10.12"
  }
 },
 "nbformat": 4,
 "nbformat_minor": 5
}
