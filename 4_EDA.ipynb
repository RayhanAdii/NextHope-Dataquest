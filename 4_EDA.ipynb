{
 "cells": [
  {
   "cell_type": "code",
   "execution_count": 1,
   "id": "0c690714-c515-4306-9fe6-66828be99ced",
   "metadata": {},
   "outputs": [],
   "source": [
    "import pandas as pd\n",
    "import numpy as np\n",
    "from matplotlib import pyplot as plt\n",
    "import seaborn as sns"
   ]
  },
  {
   "cell_type": "code",
   "execution_count": 2,
   "id": "711907fb-f4f4-4fc5-aec7-66ba96581b9f",
   "metadata": {},
   "outputs": [],
   "source": [
    "df_train = pd.read_csv('./dataset/train_cleaned.csv')\n",
    "df_train['datetime_iso'] = pd.to_datetime(df_train['datetime_iso'])\n",
    "\n",
    "df_test = pd.read_csv('./dataset/test_cleaned.csv')\n",
    "df_test['datetime_iso'] = pd.to_datetime(df_test['datetime_iso'])"
   ]
  },
  {
   "cell_type": "code",
   "execution_count": 3,
   "id": "5587a459-1fbe-4fdd-8cb3-4645734e8c28",
   "metadata": {},
   "outputs": [
    {
     "data": {
      "text/html": [
       "<div>\n",
       "<style scoped>\n",
       "    .dataframe tbody tr th:only-of-type {\n",
       "        vertical-align: middle;\n",
       "    }\n",
       "\n",
       "    .dataframe tbody tr th {\n",
       "        vertical-align: top;\n",
       "    }\n",
       "\n",
       "    .dataframe thead th {\n",
       "        text-align: right;\n",
       "    }\n",
       "</style>\n",
       "<table border=\"1\" class=\"dataframe\">\n",
       "  <thead>\n",
       "    <tr style=\"text-align: right;\">\n",
       "      <th></th>\n",
       "      <th>datetime</th>\n",
       "      <th>datetime_iso</th>\n",
       "      <th>time-zone</th>\n",
       "      <th>temp</th>\n",
       "      <th>visibility</th>\n",
       "      <th>d_point</th>\n",
       "      <th>feels</th>\n",
       "      <th>min_temp</th>\n",
       "      <th>max_temp</th>\n",
       "      <th>prssr</th>\n",
       "      <th>sea_level</th>\n",
       "      <th>grnd_level</th>\n",
       "      <th>hum</th>\n",
       "      <th>wind_spd</th>\n",
       "      <th>wind_deg</th>\n",
       "      <th>rain_1h</th>\n",
       "      <th>rain_3h</th>\n",
       "      <th>snow_1h</th>\n",
       "      <th>snow_3h</th>\n",
       "      <th>clouds</th>\n",
       "    </tr>\n",
       "  </thead>\n",
       "  <tbody>\n",
       "    <tr>\n",
       "      <th>0</th>\n",
       "      <td>283996800</td>\n",
       "      <td>1979-01-01 00:00:00+00:00</td>\n",
       "      <td>28800</td>\n",
       "      <td>24.75</td>\n",
       "      <td>NaN</td>\n",
       "      <td>23.89</td>\n",
       "      <td>25.76</td>\n",
       "      <td>24.28</td>\n",
       "      <td>25.22</td>\n",
       "      <td>1012.0</td>\n",
       "      <td>undetermined</td>\n",
       "      <td>NaN</td>\n",
       "      <td>95.0</td>\n",
       "      <td>0.82</td>\n",
       "      <td>320.0</td>\n",
       "      <td>0.00</td>\n",
       "      <td>0</td>\n",
       "      <td>NaN</td>\n",
       "      <td>NaN</td>\n",
       "      <td>100.0</td>\n",
       "    </tr>\n",
       "    <tr>\n",
       "      <th>1</th>\n",
       "      <td>284000400</td>\n",
       "      <td>1979-01-01 01:00:00+00:00</td>\n",
       "      <td>28800</td>\n",
       "      <td>24.58</td>\n",
       "      <td>NaN</td>\n",
       "      <td>23.73</td>\n",
       "      <td>25.57</td>\n",
       "      <td>23.99</td>\n",
       "      <td>25.26</td>\n",
       "      <td>1012.0</td>\n",
       "      <td>NaN</td>\n",
       "      <td>NaN</td>\n",
       "      <td>95.0</td>\n",
       "      <td>0.96</td>\n",
       "      <td>338.0</td>\n",
       "      <td>0.00</td>\n",
       "      <td>0</td>\n",
       "      <td>0</td>\n",
       "      <td>0</td>\n",
       "      <td>100.0</td>\n",
       "    </tr>\n",
       "    <tr>\n",
       "      <th>2</th>\n",
       "      <td>284004000</td>\n",
       "      <td>1979-01-01 02:00:00+00:00</td>\n",
       "      <td>28800</td>\n",
       "      <td>26.60</td>\n",
       "      <td>unidentified</td>\n",
       "      <td>24.06</td>\n",
       "      <td>26.60</td>\n",
       "      <td>26.10</td>\n",
       "      <td>27.39</td>\n",
       "      <td>1012.0</td>\n",
       "      <td>NaN</td>\n",
       "      <td>undetermined</td>\n",
       "      <td>86.0</td>\n",
       "      <td>1.22</td>\n",
       "      <td>339.0</td>\n",
       "      <td>0.00</td>\n",
       "      <td>volume:zero</td>\n",
       "      <td>NaN</td>\n",
       "      <td>NaN</td>\n",
       "      <td>99.0</td>\n",
       "    </tr>\n",
       "    <tr>\n",
       "      <th>3</th>\n",
       "      <td>284007600</td>\n",
       "      <td>1979-01-01 03:00:00+00:00</td>\n",
       "      <td>28800</td>\n",
       "      <td>27.31</td>\n",
       "      <td>NaN</td>\n",
       "      <td>24.37</td>\n",
       "      <td>30.90</td>\n",
       "      <td>26.59</td>\n",
       "      <td>28.36</td>\n",
       "      <td>1012.0</td>\n",
       "      <td>NaN</td>\n",
       "      <td>undetermined</td>\n",
       "      <td>84.0</td>\n",
       "      <td>1.08</td>\n",
       "      <td>342.0</td>\n",
       "      <td>0.13</td>\n",
       "      <td>nol</td>\n",
       "      <td>0</td>\n",
       "      <td>NaN</td>\n",
       "      <td>94.0</td>\n",
       "    </tr>\n",
       "    <tr>\n",
       "      <th>4</th>\n",
       "      <td>284011200</td>\n",
       "      <td>1979-01-01 04:00:00+00:00</td>\n",
       "      <td>28800</td>\n",
       "      <td>27.41</td>\n",
       "      <td>NaN</td>\n",
       "      <td>25.05</td>\n",
       "      <td>31.54</td>\n",
       "      <td>26.58</td>\n",
       "      <td>28.31</td>\n",
       "      <td>1011.0</td>\n",
       "      <td>NaN</td>\n",
       "      <td>undetermined</td>\n",
       "      <td>87.0</td>\n",
       "      <td>0.86</td>\n",
       "      <td>336.0</td>\n",
       "      <td>0.34</td>\n",
       "      <td>nol</td>\n",
       "      <td>NaN</td>\n",
       "      <td>0</td>\n",
       "      <td>100.0</td>\n",
       "    </tr>\n",
       "  </tbody>\n",
       "</table>\n",
       "</div>"
      ],
      "text/plain": [
       "    datetime              datetime_iso  time-zone   temp    visibility  \\\n",
       "0  283996800 1979-01-01 00:00:00+00:00      28800  24.75           NaN   \n",
       "1  284000400 1979-01-01 01:00:00+00:00      28800  24.58           NaN   \n",
       "2  284004000 1979-01-01 02:00:00+00:00      28800  26.60  unidentified   \n",
       "3  284007600 1979-01-01 03:00:00+00:00      28800  27.31           NaN   \n",
       "4  284011200 1979-01-01 04:00:00+00:00      28800  27.41           NaN   \n",
       "\n",
       "   d_point  feels  min_temp  max_temp   prssr     sea_level    grnd_level  \\\n",
       "0    23.89  25.76     24.28     25.22  1012.0  undetermined           NaN   \n",
       "1    23.73  25.57     23.99     25.26  1012.0           NaN           NaN   \n",
       "2    24.06  26.60     26.10     27.39  1012.0           NaN  undetermined   \n",
       "3    24.37  30.90     26.59     28.36  1012.0           NaN  undetermined   \n",
       "4    25.05  31.54     26.58     28.31  1011.0           NaN  undetermined   \n",
       "\n",
       "    hum  wind_spd  wind_deg  rain_1h      rain_3h snow_1h snow_3h  clouds  \n",
       "0  95.0      0.82     320.0     0.00            0     NaN     NaN   100.0  \n",
       "1  95.0      0.96     338.0     0.00            0       0       0   100.0  \n",
       "2  86.0      1.22     339.0     0.00  volume:zero     NaN     NaN    99.0  \n",
       "3  84.0      1.08     342.0     0.13          nol       0     NaN    94.0  \n",
       "4  87.0      0.86     336.0     0.34          nol     NaN       0   100.0  "
      ]
     },
     "execution_count": 3,
     "metadata": {},
     "output_type": "execute_result"
    }
   ],
   "source": [
    "df_train.head()"
   ]
  },
  {
   "cell_type": "markdown",
   "id": "e88c31d8-b605-48e6-af04-29f8d0996b55",
   "metadata": {},
   "source": [
    "## Drop unnecesarry feature"
   ]
  },
  {
   "cell_type": "code",
   "execution_count": 4,
   "id": "5fb9a94d-99c6-4281-9fd8-c7a6613bf43a",
   "metadata": {},
   "outputs": [],
   "source": [
    "df_train = df_train.drop(['datetime','time-zone','visibility','sea_level','grnd_level','rain_3h','snow_1h','snow_3h'],axis = 1)\n",
    "df_test = df_test.drop(['datetime','time-zone','visibility','sea_level','grnd_level','rain_3h','snow_1h','snow_3h'],axis = 1)"
   ]
  },
  {
   "cell_type": "code",
   "execution_count": 5,
   "id": "c1d555b3-6c5b-4768-85c0-05c6530c1047",
   "metadata": {},
   "outputs": [
    {
     "data": {
      "text/html": [
       "<div>\n",
       "<style scoped>\n",
       "    .dataframe tbody tr th:only-of-type {\n",
       "        vertical-align: middle;\n",
       "    }\n",
       "\n",
       "    .dataframe tbody tr th {\n",
       "        vertical-align: top;\n",
       "    }\n",
       "\n",
       "    .dataframe thead th {\n",
       "        text-align: right;\n",
       "    }\n",
       "</style>\n",
       "<table border=\"1\" class=\"dataframe\">\n",
       "  <thead>\n",
       "    <tr style=\"text-align: right;\">\n",
       "      <th></th>\n",
       "      <th>datetime_iso</th>\n",
       "      <th>temp</th>\n",
       "      <th>d_point</th>\n",
       "      <th>feels</th>\n",
       "      <th>min_temp</th>\n",
       "      <th>max_temp</th>\n",
       "      <th>prssr</th>\n",
       "      <th>hum</th>\n",
       "      <th>wind_spd</th>\n",
       "      <th>wind_deg</th>\n",
       "      <th>rain_1h</th>\n",
       "      <th>clouds</th>\n",
       "    </tr>\n",
       "  </thead>\n",
       "  <tbody>\n",
       "    <tr>\n",
       "      <th>0</th>\n",
       "      <td>1979-01-01 00:00:00+00:00</td>\n",
       "      <td>24.75</td>\n",
       "      <td>23.89</td>\n",
       "      <td>25.76</td>\n",
       "      <td>24.28</td>\n",
       "      <td>25.22</td>\n",
       "      <td>1012.0</td>\n",
       "      <td>95.0</td>\n",
       "      <td>0.82</td>\n",
       "      <td>320.0</td>\n",
       "      <td>0.00</td>\n",
       "      <td>100.0</td>\n",
       "    </tr>\n",
       "    <tr>\n",
       "      <th>1</th>\n",
       "      <td>1979-01-01 01:00:00+00:00</td>\n",
       "      <td>24.58</td>\n",
       "      <td>23.73</td>\n",
       "      <td>25.57</td>\n",
       "      <td>23.99</td>\n",
       "      <td>25.26</td>\n",
       "      <td>1012.0</td>\n",
       "      <td>95.0</td>\n",
       "      <td>0.96</td>\n",
       "      <td>338.0</td>\n",
       "      <td>0.00</td>\n",
       "      <td>100.0</td>\n",
       "    </tr>\n",
       "    <tr>\n",
       "      <th>2</th>\n",
       "      <td>1979-01-01 02:00:00+00:00</td>\n",
       "      <td>26.60</td>\n",
       "      <td>24.06</td>\n",
       "      <td>26.60</td>\n",
       "      <td>26.10</td>\n",
       "      <td>27.39</td>\n",
       "      <td>1012.0</td>\n",
       "      <td>86.0</td>\n",
       "      <td>1.22</td>\n",
       "      <td>339.0</td>\n",
       "      <td>0.00</td>\n",
       "      <td>99.0</td>\n",
       "    </tr>\n",
       "    <tr>\n",
       "      <th>3</th>\n",
       "      <td>1979-01-01 03:00:00+00:00</td>\n",
       "      <td>27.31</td>\n",
       "      <td>24.37</td>\n",
       "      <td>30.90</td>\n",
       "      <td>26.59</td>\n",
       "      <td>28.36</td>\n",
       "      <td>1012.0</td>\n",
       "      <td>84.0</td>\n",
       "      <td>1.08</td>\n",
       "      <td>342.0</td>\n",
       "      <td>0.13</td>\n",
       "      <td>94.0</td>\n",
       "    </tr>\n",
       "    <tr>\n",
       "      <th>4</th>\n",
       "      <td>1979-01-01 04:00:00+00:00</td>\n",
       "      <td>27.41</td>\n",
       "      <td>25.05</td>\n",
       "      <td>31.54</td>\n",
       "      <td>26.58</td>\n",
       "      <td>28.31</td>\n",
       "      <td>1011.0</td>\n",
       "      <td>87.0</td>\n",
       "      <td>0.86</td>\n",
       "      <td>336.0</td>\n",
       "      <td>0.34</td>\n",
       "      <td>100.0</td>\n",
       "    </tr>\n",
       "  </tbody>\n",
       "</table>\n",
       "</div>"
      ],
      "text/plain": [
       "               datetime_iso   temp  d_point  feels  min_temp  max_temp  \\\n",
       "0 1979-01-01 00:00:00+00:00  24.75    23.89  25.76     24.28     25.22   \n",
       "1 1979-01-01 01:00:00+00:00  24.58    23.73  25.57     23.99     25.26   \n",
       "2 1979-01-01 02:00:00+00:00  26.60    24.06  26.60     26.10     27.39   \n",
       "3 1979-01-01 03:00:00+00:00  27.31    24.37  30.90     26.59     28.36   \n",
       "4 1979-01-01 04:00:00+00:00  27.41    25.05  31.54     26.58     28.31   \n",
       "\n",
       "    prssr   hum  wind_spd  wind_deg  rain_1h  clouds  \n",
       "0  1012.0  95.0      0.82     320.0     0.00   100.0  \n",
       "1  1012.0  95.0      0.96     338.0     0.00   100.0  \n",
       "2  1012.0  86.0      1.22     339.0     0.00    99.0  \n",
       "3  1012.0  84.0      1.08     342.0     0.13    94.0  \n",
       "4  1011.0  87.0      0.86     336.0     0.34   100.0  "
      ]
     },
     "execution_count": 5,
     "metadata": {},
     "output_type": "execute_result"
    }
   ],
   "source": [
    "df_train.head()"
   ]
  },
  {
   "cell_type": "markdown",
   "id": "a44dee63-fc5e-44f1-acf3-7360fd5203c6",
   "metadata": {},
   "source": [
    "## Check Null Values"
   ]
  },
  {
   "cell_type": "code",
   "execution_count": 6,
   "id": "5935a085-123b-4968-a1a3-2af19b842dcb",
   "metadata": {},
   "outputs": [
    {
     "data": {
      "text/plain": [
       "datetime_iso       0\n",
       "temp               0\n",
       "d_point            0\n",
       "feels              0\n",
       "min_temp           0\n",
       "max_temp           0\n",
       "prssr              0\n",
       "hum                0\n",
       "wind_spd        2226\n",
       "wind_deg           0\n",
       "rain_1h            0\n",
       "clouds             0\n",
       "dtype: int64"
      ]
     },
     "execution_count": 6,
     "metadata": {},
     "output_type": "execute_result"
    }
   ],
   "source": [
    "df_train.isna().sum()"
   ]
  },
  {
   "cell_type": "code",
   "execution_count": 7,
   "id": "1cbd6ab0-2673-420f-bbc6-cc7f37074c7f",
   "metadata": {},
   "outputs": [
    {
     "data": {
      "image/png": "[encoded data removed]",
      "text/plain": [
       "<Figure size 1000x600 with 1 Axes>"
      ]
     },
     "metadata": {},
     "output_type": "display_data"
    }
   ],
   "source": [
    "plt.figure(figsize=(10, 6))\n",
    "sns.lineplot(x='datetime_iso', y='wind_spd', data=df_train)\n",
    "plt.xlabel('Time')\n",
    "plt.ylabel('Value')\n",
    "plt.title('Time Series Plot')\n",
    "plt.grid(True)"
   ]
  },
  {
   "cell_type": "code",
   "execution_count": 8,
   "id": "86eb93ba-ccbf-4b27-91be-9e4af445418e",
   "metadata": {},
   "outputs": [
    {
     "name": "stdout",
     "output_type": "stream",
     "text": [
      "                    datetime_iso   temp  d_point  feels  min_temp  max_temp  \\\n",
      "20     1979-01-01 20:00:00+00:00  23.82    23.65  24.84     22.77     24.64   \n",
      "240    1979-01-11 00:00:00+00:00  24.62    24.28  25.70     23.87     25.22   \n",
      "317    1979-01-14 05:00:00+00:00  28.36    24.36  32.84     27.94     29.19   \n",
      "475    1979-01-20 19:00:00+00:00  24.31    23.63  25.30     23.70     25.26   \n",
      "578    1979-01-25 02:00:00+00:00  29.07    24.18  33.87     28.66     29.81   \n",
      "...                          ...    ...      ...    ...       ...       ...   \n",
      "341331 2017-12-09 03:00:00+00:00  30.07    25.81  37.07     29.82     30.45   \n",
      "341474 2017-12-15 02:00:00+00:00  27.51    24.96  31.68     27.05     28.04   \n",
      "341534 2017-12-17 14:00:00+00:00  26.89    24.92  30.33     26.17     27.75   \n",
      "341561 2017-12-18 17:00:00+00:00  25.07    24.21  26.11     24.53     25.86   \n",
      "341608 2017-12-20 16:00:00+00:00  25.94    25.43  27.12     25.18     29.04   \n",
      "\n",
      "         prssr   hum  wind_spd  wind_deg  rain_1h  clouds  \n",
      "20      1011.0  99.0       NaN     267.0     0.00   100.0  \n",
      "240     1012.0  98.0       NaN     326.0     0.00   100.0  \n",
      "317     1011.0  79.0       NaN     327.0     0.11   100.0  \n",
      "475     1012.0  96.0       NaN     293.0     0.00    91.0  \n",
      "578     1013.0  75.0       NaN       8.0     0.00    99.0  \n",
      "...        ...   ...       ...       ...      ...     ...  \n",
      "341331  1011.0  78.0       NaN     236.0     0.11   100.0  \n",
      "341474  1012.0  86.0       NaN     171.0     0.00   100.0  \n",
      "341534  1011.0  89.0       NaN     212.0     0.00    98.0  \n",
      "341561  1010.0  95.0       NaN     230.0     0.00   100.0  \n",
      "341608  1010.0  97.0       NaN     181.0     0.00   100.0  \n",
      "\n",
      "[2226 rows x 12 columns]\n"
     ]
    }
   ],
   "source": [
    "# Filter and display rows with missing values\n",
    "rows_with_null = df_train[df_train.isnull().any(axis=1)]\n",
    "\n",
    "# Print the resulting DataFrame\n",
    "print(rows_with_null)"
   ]
  },
  {
   "cell_type": "markdown",
   "id": "c067721d-53fb-4013-8b59-e145c215ea97",
   "metadata": {},
   "source": [
    "## Check Outlier"
   ]
  },
  {
   "cell_type": "code",
   "execution_count": 9,
   "id": "f8df2c0e-8eda-4eca-9d46-493301219f2c",
   "metadata": {},
   "outputs": [
    {
     "data": {
      "image/png": "[encoded data removed]",
      "text/plain": [
       "<Figure size 1000x600 with 1 Axes>"
      ]
     },
     "metadata": {},
     "output_type": "display_data"
    }
   ],
   "source": [
    "# Create a boxplot for the entire DataFrame\n",
    "plt.figure(figsize=(10, 6))  # Optional: Set the figure size\n",
    "sns.boxplot(data=df_train, orient=\"h\")  # \"orient\" specifies horizontal orientation\n",
    "\n",
    "# Show the plot\n",
    "plt.show()"
   ]
  },
  {
   "cell_type": "markdown",
   "id": "4c049b15-a468-46d1-bbb6-a986c3a23f7e",
   "metadata": {},
   "source": [
    "## Q-Q Plot for "
   ]
  }
 ],
 "metadata": {
  "kernelspec": {
   "display_name": "Python 3 (ipykernel)",
   "language": "python",
   "name": "python3"
  },
  "language_info": {
   "codemirror_mode": {
    "name": "ipython",
    "version": 3
   },
   "file_extension": ".py",
   "mimetype": "text/x-python",
   "name": "python",
   "nbconvert_exporter": "python",
   "pygments_lexer": "ipython3",
   "version": "3.10.6"
  }
 },
 "nbformat": 4,
 "nbformat_minor": 5
}
